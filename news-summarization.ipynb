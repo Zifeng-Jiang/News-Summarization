{
 "cells": [
  {
   "cell_type": "markdown",
   "metadata": {},
   "source": [
    "# News Summarization Using Fine-tuned LLMs -- T5, PEGASUS and BART\n",
    "\n",
    "There are 2 summarization types:\n",
    "- Extractive Summarization: \n",
    "Extractive summarization involves identifying and extracting key phrases, sentences, or segments directly from the original text to form a condensed version. It's akin to highlighting parts of the text that are deemed most informative or relevant.\n",
    "\n",
    "- Abtractive Summarization:\n",
    "Abstractive summarization goes beyond mere extraction; it involves understanding the main ideas and then expressing them in new words. It's akin to reading a text and then explaining it in one's own words.\n",
    "\n",
    "What we gonna do is Abtractive Summarization.\n",
    "\n",
    "Env: Google Cloud Vertex AI \n",
    "- Zone: us-east4-c\n",
    "- GPUs/CPUs: Graphics Optimized: 1 * NVIDIA L4 GPU 24GB Memory, 4 vCPUs, 16GB RAM\n",
    "- Pytorch\n",
    "\n",
    "## Part1: Data Preprocessing and EDA"
   ]
  },
  {
   "cell_type": "code",
   "execution_count": 1,
   "metadata": {},
   "outputs": [
    {
     "name": "stdout",
     "output_type": "stream",
     "text": [
      "Mon Nov 20 01:35:20 2023       \n",
      "+-----------------------------------------------------------------------------+\n",
      "| NVIDIA-SMI 525.105.17   Driver Version: 525.105.17   CUDA Version: 12.0     |\n",
      "|-------------------------------+----------------------+----------------------+\n",
      "| GPU  Name        Persistence-M| Bus-Id        Disp.A | Volatile Uncorr. ECC |\n",
      "| Fan  Temp  Perf  Pwr:Usage/Cap|         Memory-Usage | GPU-Util  Compute M. |\n",
      "|                               |                      |               MIG M. |\n",
      "|===============================+======================+======================|\n",
      "|   0  NVIDIA L4           On   | 00000000:00:03.0 Off |                    0 |\n",
      "| N/A   74C    P8    20W /  72W |      0MiB / 23034MiB |      0%      Default |\n",
      "|                               |                      |                  N/A |\n",
      "+-------------------------------+----------------------+----------------------+\n",
      "                                                                               \n",
      "+-----------------------------------------------------------------------------+\n",
      "| Processes:                                                                  |\n",
      "|  GPU   GI   CI        PID   Type   Process name                  GPU Memory |\n",
      "|        ID   ID                                                   Usage      |\n",
      "|=============================================================================|\n",
      "|  No running processes found                                                 |\n",
      "+-----------------------------------------------------------------------------+\n"
     ]
    }
   ],
   "source": [
    "!nvidia-smi"
   ]
  },
  {
   "cell_type": "code",
   "execution_count": 2,
   "metadata": {
    "tags": []
   },
   "outputs": [],
   "source": [
    "import numpy as np\n",
    "import pandas as pd\n",
    "import seaborn as sns\n",
    "import matplotlib.pyplot as plt\n",
    "import torch\n",
    "import warnings\n",
    "warnings.filterwarnings(\"ignore\") "
   ]
  },
  {
   "cell_type": "code",
   "execution_count": 3,
   "metadata": {
    "tags": []
   },
   "outputs": [],
   "source": [
    "from sklearn.model_selection import train_test_split\n",
    "from torch.utils.data import Dataset, DataLoader\n",
    "from lightning.pytorch import Trainer\n",
    "from lightning.pytorch.callbacks import ModelCheckpoint\n",
    "from lightning.pytorch.loggers import TensorBoardLogger"
   ]
  },
  {
   "cell_type": "code",
   "execution_count": 4,
   "metadata": {
    "tags": []
   },
   "outputs": [],
   "source": [
    "import transformers\n",
    "from transformers import T5Tokenizer, T5ForConditionalGeneration, AutoTokenizer, AutoModel\n",
    "from transformers import PegasusForConditionalGeneration, PegasusTokenizer, BartForConditionalGeneration\n",
    "from transformers import DataCollatorForSeq2Seq, AdamW, get_linear_schedule_with_warmup\n",
    "from transformers import AutoModelForSeq2SeqLM, Seq2SeqTrainingArguments, Seq2SeqTrainer\n",
    "from transformers import create_optimizer, AdamWeightDecay\n",
    "from transformers import pipeline\n",
    "import datasets\n",
    "from datasets import Dataset, DatasetDict\n",
    "#from torch.utils.data import DataLoader, Dataset\n",
    "from tqdm.auto import tqdm\n",
    "from rouge import Rouge"
   ]
  },
  {
   "cell_type": "code",
   "execution_count": 5,
   "metadata": {
    "tags": []
   },
   "outputs": [
    {
     "data": {
      "text/plain": [
       "'cuda'"
      ]
     },
     "execution_count": 5,
     "metadata": {},
     "output_type": "execute_result"
    }
   ],
   "source": [
    "from torch import cuda\n",
    "device = 'cuda' if cuda.is_available() else 'cpu'\n",
    "device"
   ]
  },
  {
   "cell_type": "code",
   "execution_count": 6,
   "metadata": {
    "tags": []
   },
   "outputs": [
    {
     "data": {
      "text/html": [
       "<div>\n",
       "<style scoped>\n",
       "    .dataframe tbody tr th:only-of-type {\n",
       "        vertical-align: middle;\n",
       "    }\n",
       "\n",
       "    .dataframe tbody tr th {\n",
       "        vertical-align: top;\n",
       "    }\n",
       "\n",
       "    .dataframe thead th {\n",
       "        text-align: right;\n",
       "    }\n",
       "</style>\n",
       "<table border=\"1\" class=\"dataframe\">\n",
       "  <thead>\n",
       "    <tr style=\"text-align: right;\">\n",
       "      <th></th>\n",
       "      <th>author</th>\n",
       "      <th>date</th>\n",
       "      <th>headlines</th>\n",
       "      <th>read_more</th>\n",
       "      <th>text</th>\n",
       "      <th>ctext</th>\n",
       "    </tr>\n",
       "  </thead>\n",
       "  <tbody>\n",
       "    <tr>\n",
       "      <th>0</th>\n",
       "      <td>Chhavi Tyagi</td>\n",
       "      <td>03 Aug 2017,Thursday</td>\n",
       "      <td>Daman &amp; Diu revokes mandatory Rakshabandhan in...</td>\n",
       "      <td>http://www.hindustantimes.com/india-news/raksh...</td>\n",
       "      <td>The Administration of Union Territory Daman an...</td>\n",
       "      <td>The Daman and Diu administration on Wednesday ...</td>\n",
       "    </tr>\n",
       "    <tr>\n",
       "      <th>1</th>\n",
       "      <td>Daisy Mowke</td>\n",
       "      <td>03 Aug 2017,Thursday</td>\n",
       "      <td>Malaika slams user who trolled her for 'divorc...</td>\n",
       "      <td>http://www.hindustantimes.com/bollywood/malaik...</td>\n",
       "      <td>Malaika Arora slammed an Instagram user who tr...</td>\n",
       "      <td>From her special numbers to TV?appearances, Bo...</td>\n",
       "    </tr>\n",
       "    <tr>\n",
       "      <th>2</th>\n",
       "      <td>Arshiya Chopra</td>\n",
       "      <td>03 Aug 2017,Thursday</td>\n",
       "      <td>'Virgin' now corrected to 'Unmarried' in IGIMS...</td>\n",
       "      <td>http://www.hindustantimes.com/patna/bihar-igim...</td>\n",
       "      <td>The Indira Gandhi Institute of Medical Science...</td>\n",
       "      <td>The Indira Gandhi Institute of Medical Science...</td>\n",
       "    </tr>\n",
       "    <tr>\n",
       "      <th>3</th>\n",
       "      <td>Sumedha Sehra</td>\n",
       "      <td>03 Aug 2017,Thursday</td>\n",
       "      <td>Aaj aapne pakad liya: LeT man Dujana before be...</td>\n",
       "      <td>http://indiatoday.intoday.in/story/abu-dujana-...</td>\n",
       "      <td>Lashkar-e-Taiba's Kashmir commander Abu Dujana...</td>\n",
       "      <td>Lashkar-e-Taiba's Kashmir commander Abu Dujana...</td>\n",
       "    </tr>\n",
       "    <tr>\n",
       "      <th>4</th>\n",
       "      <td>Aarushi Maheshwari</td>\n",
       "      <td>03 Aug 2017,Thursday</td>\n",
       "      <td>Hotel staff to get training to spot signs of s...</td>\n",
       "      <td>http://indiatoday.intoday.in/story/sex-traffic...</td>\n",
       "      <td>Hotels in Maharashtra will train their staff t...</td>\n",
       "      <td>Hotels in Mumbai and other Indian cities are t...</td>\n",
       "    </tr>\n",
       "  </tbody>\n",
       "</table>\n",
       "</div>"
      ],
      "text/plain": [
       "               author                  date  \\\n",
       "0        Chhavi Tyagi  03 Aug 2017,Thursday   \n",
       "1         Daisy Mowke  03 Aug 2017,Thursday   \n",
       "2      Arshiya Chopra  03 Aug 2017,Thursday   \n",
       "3       Sumedha Sehra  03 Aug 2017,Thursday   \n",
       "4  Aarushi Maheshwari  03 Aug 2017,Thursday   \n",
       "\n",
       "                                           headlines  \\\n",
       "0  Daman & Diu revokes mandatory Rakshabandhan in...   \n",
       "1  Malaika slams user who trolled her for 'divorc...   \n",
       "2  'Virgin' now corrected to 'Unmarried' in IGIMS...   \n",
       "3  Aaj aapne pakad liya: LeT man Dujana before be...   \n",
       "4  Hotel staff to get training to spot signs of s...   \n",
       "\n",
       "                                           read_more  \\\n",
       "0  http://www.hindustantimes.com/india-news/raksh...   \n",
       "1  http://www.hindustantimes.com/bollywood/malaik...   \n",
       "2  http://www.hindustantimes.com/patna/bihar-igim...   \n",
       "3  http://indiatoday.intoday.in/story/abu-dujana-...   \n",
       "4  http://indiatoday.intoday.in/story/sex-traffic...   \n",
       "\n",
       "                                                text  \\\n",
       "0  The Administration of Union Territory Daman an...   \n",
       "1  Malaika Arora slammed an Instagram user who tr...   \n",
       "2  The Indira Gandhi Institute of Medical Science...   \n",
       "3  Lashkar-e-Taiba's Kashmir commander Abu Dujana...   \n",
       "4  Hotels in Maharashtra will train their staff t...   \n",
       "\n",
       "                                               ctext  \n",
       "0  The Daman and Diu administration on Wednesday ...  \n",
       "1  From her special numbers to TV?appearances, Bo...  \n",
       "2  The Indira Gandhi Institute of Medical Science...  \n",
       "3  Lashkar-e-Taiba's Kashmir commander Abu Dujana...  \n",
       "4  Hotels in Mumbai and other Indian cities are t...  "
      ]
     },
     "execution_count": 6,
     "metadata": {},
     "output_type": "execute_result"
    }
   ],
   "source": [
    "df = pd.read_csv(\"news_summary.csv\", encoding=\"latin-1\")\n",
    "df.head()"
   ]
  },
  {
   "cell_type": "code",
   "execution_count": 7,
   "metadata": {
    "tags": []
   },
   "outputs": [
    {
     "data": {
      "text/html": [
       "<div>\n",
       "<style scoped>\n",
       "    .dataframe tbody tr th:only-of-type {\n",
       "        vertical-align: middle;\n",
       "    }\n",
       "\n",
       "    .dataframe tbody tr th {\n",
       "        vertical-align: top;\n",
       "    }\n",
       "\n",
       "    .dataframe thead th {\n",
       "        text-align: right;\n",
       "    }\n",
       "</style>\n",
       "<table border=\"1\" class=\"dataframe\">\n",
       "  <thead>\n",
       "    <tr style=\"text-align: right;\">\n",
       "      <th></th>\n",
       "      <th>author</th>\n",
       "      <th>date</th>\n",
       "      <th>headlines</th>\n",
       "      <th>read_more</th>\n",
       "      <th>text</th>\n",
       "      <th>ctext</th>\n",
       "    </tr>\n",
       "  </thead>\n",
       "  <tbody>\n",
       "    <tr>\n",
       "      <th>count</th>\n",
       "      <td>4514</td>\n",
       "      <td>4514</td>\n",
       "      <td>4514</td>\n",
       "      <td>4514</td>\n",
       "      <td>4514</td>\n",
       "      <td>4396</td>\n",
       "    </tr>\n",
       "    <tr>\n",
       "      <th>unique</th>\n",
       "      <td>45</td>\n",
       "      <td>240</td>\n",
       "      <td>4514</td>\n",
       "      <td>4461</td>\n",
       "      <td>4514</td>\n",
       "      <td>4341</td>\n",
       "    </tr>\n",
       "    <tr>\n",
       "      <th>top</th>\n",
       "      <td>Chhavi Tyagi</td>\n",
       "      <td>19 Jul 2017,Wednesday</td>\n",
       "      <td>More than half of India's languages may die in...</td>\n",
       "      <td>http://indiatoday.intoday.in/story/assembly-el...</td>\n",
       "      <td>At least 400 languages or more than half langu...</td>\n",
       "      <td>AAJ TAK LIVE TV WITH LIVE ELECTION RESULTS I c...</td>\n",
       "    </tr>\n",
       "    <tr>\n",
       "      <th>freq</th>\n",
       "      <td>559</td>\n",
       "      <td>76</td>\n",
       "      <td>1</td>\n",
       "      <td>13</td>\n",
       "      <td>1</td>\n",
       "      <td>13</td>\n",
       "    </tr>\n",
       "  </tbody>\n",
       "</table>\n",
       "</div>"
      ],
      "text/plain": [
       "              author                   date  \\\n",
       "count           4514                   4514   \n",
       "unique            45                    240   \n",
       "top     Chhavi Tyagi  19 Jul 2017,Wednesday   \n",
       "freq             559                     76   \n",
       "\n",
       "                                                headlines  \\\n",
       "count                                                4514   \n",
       "unique                                               4514   \n",
       "top     More than half of India's languages may die in...   \n",
       "freq                                                    1   \n",
       "\n",
       "                                                read_more  \\\n",
       "count                                                4514   \n",
       "unique                                               4461   \n",
       "top     http://indiatoday.intoday.in/story/assembly-el...   \n",
       "freq                                                   13   \n",
       "\n",
       "                                                     text  \\\n",
       "count                                                4514   \n",
       "unique                                               4514   \n",
       "top     At least 400 languages or more than half langu...   \n",
       "freq                                                    1   \n",
       "\n",
       "                                                    ctext  \n",
       "count                                                4396  \n",
       "unique                                               4341  \n",
       "top     AAJ TAK LIVE TV WITH LIVE ELECTION RESULTS I c...  \n",
       "freq                                                   13  "
      ]
     },
     "execution_count": 7,
     "metadata": {},
     "output_type": "execute_result"
    }
   ],
   "source": [
    "df.describe()"
   ]
  },
  {
   "cell_type": "code",
   "execution_count": 8,
   "metadata": {
    "tags": []
   },
   "outputs": [
    {
     "name": "stdout",
     "output_type": "stream",
     "text": [
      "<class 'pandas.core.frame.DataFrame'>\n",
      "RangeIndex: 4514 entries, 0 to 4513\n",
      "Data columns (total 6 columns):\n",
      " #   Column     Non-Null Count  Dtype \n",
      "---  ------     --------------  ----- \n",
      " 0   author     4514 non-null   object\n",
      " 1   date       4514 non-null   object\n",
      " 2   headlines  4514 non-null   object\n",
      " 3   read_more  4514 non-null   object\n",
      " 4   text       4514 non-null   object\n",
      " 5   ctext      4396 non-null   object\n",
      "dtypes: object(6)\n",
      "memory usage: 211.7+ KB\n"
     ]
    }
   ],
   "source": [
    "df.info()"
   ]
  },
  {
   "cell_type": "code",
   "execution_count": 9,
   "metadata": {
    "tags": []
   },
   "outputs": [
    {
     "data": {
      "text/html": [
       "<div>\n",
       "<style scoped>\n",
       "    .dataframe tbody tr th:only-of-type {\n",
       "        vertical-align: middle;\n",
       "    }\n",
       "\n",
       "    .dataframe tbody tr th {\n",
       "        vertical-align: top;\n",
       "    }\n",
       "\n",
       "    .dataframe thead th {\n",
       "        text-align: right;\n",
       "    }\n",
       "</style>\n",
       "<table border=\"1\" class=\"dataframe\">\n",
       "  <thead>\n",
       "    <tr style=\"text-align: right;\">\n",
       "      <th></th>\n",
       "      <th>headlines</th>\n",
       "      <th>text</th>\n",
       "      <th>ctext</th>\n",
       "    </tr>\n",
       "  </thead>\n",
       "  <tbody>\n",
       "    <tr>\n",
       "      <th>0</th>\n",
       "      <td>Daman &amp; Diu revokes mandatory Rakshabandhan in...</td>\n",
       "      <td>The Administration of Union Territory Daman an...</td>\n",
       "      <td>The Daman and Diu administration on Wednesday ...</td>\n",
       "    </tr>\n",
       "    <tr>\n",
       "      <th>1</th>\n",
       "      <td>Malaika slams user who trolled her for 'divorc...</td>\n",
       "      <td>Malaika Arora slammed an Instagram user who tr...</td>\n",
       "      <td>From her special numbers to TV?appearances, Bo...</td>\n",
       "    </tr>\n",
       "    <tr>\n",
       "      <th>2</th>\n",
       "      <td>'Virgin' now corrected to 'Unmarried' in IGIMS...</td>\n",
       "      <td>The Indira Gandhi Institute of Medical Science...</td>\n",
       "      <td>The Indira Gandhi Institute of Medical Science...</td>\n",
       "    </tr>\n",
       "    <tr>\n",
       "      <th>3</th>\n",
       "      <td>Aaj aapne pakad liya: LeT man Dujana before be...</td>\n",
       "      <td>Lashkar-e-Taiba's Kashmir commander Abu Dujana...</td>\n",
       "      <td>Lashkar-e-Taiba's Kashmir commander Abu Dujana...</td>\n",
       "    </tr>\n",
       "    <tr>\n",
       "      <th>4</th>\n",
       "      <td>Hotel staff to get training to spot signs of s...</td>\n",
       "      <td>Hotels in Maharashtra will train their staff t...</td>\n",
       "      <td>Hotels in Mumbai and other Indian cities are t...</td>\n",
       "    </tr>\n",
       "  </tbody>\n",
       "</table>\n",
       "</div>"
      ],
      "text/plain": [
       "                                           headlines  \\\n",
       "0  Daman & Diu revokes mandatory Rakshabandhan in...   \n",
       "1  Malaika slams user who trolled her for 'divorc...   \n",
       "2  'Virgin' now corrected to 'Unmarried' in IGIMS...   \n",
       "3  Aaj aapne pakad liya: LeT man Dujana before be...   \n",
       "4  Hotel staff to get training to spot signs of s...   \n",
       "\n",
       "                                                text  \\\n",
       "0  The Administration of Union Territory Daman an...   \n",
       "1  Malaika Arora slammed an Instagram user who tr...   \n",
       "2  The Indira Gandhi Institute of Medical Science...   \n",
       "3  Lashkar-e-Taiba's Kashmir commander Abu Dujana...   \n",
       "4  Hotels in Maharashtra will train their staff t...   \n",
       "\n",
       "                                               ctext  \n",
       "0  The Daman and Diu administration on Wednesday ...  \n",
       "1  From her special numbers to TV?appearances, Bo...  \n",
       "2  The Indira Gandhi Institute of Medical Science...  \n",
       "3  Lashkar-e-Taiba's Kashmir commander Abu Dujana...  \n",
       "4  Hotels in Mumbai and other Indian cities are t...  "
      ]
     },
     "execution_count": 9,
     "metadata": {},
     "output_type": "execute_result"
    }
   ],
   "source": [
    "df = df[['headlines', 'text', 'ctext']]\n",
    "df.head()"
   ]
  },
  {
   "cell_type": "code",
   "execution_count": 10,
   "metadata": {
    "tags": []
   },
   "outputs": [
    {
     "data": {
      "text/html": [
       "<div>\n",
       "<style scoped>\n",
       "    .dataframe tbody tr th:only-of-type {\n",
       "        vertical-align: middle;\n",
       "    }\n",
       "\n",
       "    .dataframe tbody tr th {\n",
       "        vertical-align: top;\n",
       "    }\n",
       "\n",
       "    .dataframe thead th {\n",
       "        text-align: right;\n",
       "    }\n",
       "</style>\n",
       "<table border=\"1\" class=\"dataframe\">\n",
       "  <thead>\n",
       "    <tr style=\"text-align: right;\">\n",
       "      <th></th>\n",
       "      <th>headlines</th>\n",
       "      <th>text</th>\n",
       "      <th>ctext</th>\n",
       "    </tr>\n",
       "  </thead>\n",
       "  <tbody>\n",
       "    <tr>\n",
       "      <th>count</th>\n",
       "      <td>4396</td>\n",
       "      <td>4396</td>\n",
       "      <td>4396</td>\n",
       "    </tr>\n",
       "    <tr>\n",
       "      <th>unique</th>\n",
       "      <td>4396</td>\n",
       "      <td>4396</td>\n",
       "      <td>4341</td>\n",
       "    </tr>\n",
       "    <tr>\n",
       "      <th>top</th>\n",
       "      <td>More than half of India's languages may die in...</td>\n",
       "      <td>At least 400 languages or more than half langu...</td>\n",
       "      <td>AAJ TAK LIVE TV WITH LIVE ELECTION RESULTS I c...</td>\n",
       "    </tr>\n",
       "    <tr>\n",
       "      <th>freq</th>\n",
       "      <td>1</td>\n",
       "      <td>1</td>\n",
       "      <td>13</td>\n",
       "    </tr>\n",
       "  </tbody>\n",
       "</table>\n",
       "</div>"
      ],
      "text/plain": [
       "                                                headlines  \\\n",
       "count                                                4396   \n",
       "unique                                               4396   \n",
       "top     More than half of India's languages may die in...   \n",
       "freq                                                    1   \n",
       "\n",
       "                                                     text  \\\n",
       "count                                                4396   \n",
       "unique                                               4396   \n",
       "top     At least 400 languages or more than half langu...   \n",
       "freq                                                    1   \n",
       "\n",
       "                                                    ctext  \n",
       "count                                                4396  \n",
       "unique                                               4341  \n",
       "top     AAJ TAK LIVE TV WITH LIVE ELECTION RESULTS I c...  \n",
       "freq                                                   13  "
      ]
     },
     "execution_count": 10,
     "metadata": {},
     "output_type": "execute_result"
    }
   ],
   "source": [
    "# drop na\n",
    "df = df.dropna()\n",
    "df.describe()"
   ]
  },
  {
   "cell_type": "code",
   "execution_count": 11,
   "metadata": {
    "tags": []
   },
   "outputs": [
    {
     "data": {
      "text/html": [
       "<div>\n",
       "<style scoped>\n",
       "    .dataframe tbody tr th:only-of-type {\n",
       "        vertical-align: middle;\n",
       "    }\n",
       "\n",
       "    .dataframe tbody tr th {\n",
       "        vertical-align: top;\n",
       "    }\n",
       "\n",
       "    .dataframe thead th {\n",
       "        text-align: right;\n",
       "    }\n",
       "</style>\n",
       "<table border=\"1\" class=\"dataframe\">\n",
       "  <thead>\n",
       "    <tr style=\"text-align: right;\">\n",
       "      <th></th>\n",
       "      <th>headlines</th>\n",
       "      <th>text</th>\n",
       "      <th>ctext</th>\n",
       "    </tr>\n",
       "  </thead>\n",
       "  <tbody>\n",
       "    <tr>\n",
       "      <th>0</th>\n",
       "      <td>daman &amp; diu revokes mandatory rakshabandhan in...</td>\n",
       "      <td>the administration of union territory daman an...</td>\n",
       "      <td>the daman and diu administration on wednesday ...</td>\n",
       "    </tr>\n",
       "    <tr>\n",
       "      <th>1</th>\n",
       "      <td>malaika slams user who trolled her for 'divorc...</td>\n",
       "      <td>malaika arora slammed an instagram user who tr...</td>\n",
       "      <td>from her special numbers to tv?appearances, bo...</td>\n",
       "    </tr>\n",
       "    <tr>\n",
       "      <th>2</th>\n",
       "      <td>'virgin' now corrected to 'unmarried' in igims...</td>\n",
       "      <td>the indira gandhi institute of medical science...</td>\n",
       "      <td>the indira gandhi institute of medical science...</td>\n",
       "    </tr>\n",
       "    <tr>\n",
       "      <th>3</th>\n",
       "      <td>aaj aapne pakad liya: let man dujana before be...</td>\n",
       "      <td>lashkar-e-taiba's kashmir commander abu dujana...</td>\n",
       "      <td>lashkar-e-taiba's kashmir commander abu dujana...</td>\n",
       "    </tr>\n",
       "    <tr>\n",
       "      <th>4</th>\n",
       "      <td>hotel staff to get training to spot signs of s...</td>\n",
       "      <td>hotels in maharashtra will train their staff t...</td>\n",
       "      <td>hotels in mumbai and other indian cities are t...</td>\n",
       "    </tr>\n",
       "  </tbody>\n",
       "</table>\n",
       "</div>"
      ],
      "text/plain": [
       "                                           headlines  \\\n",
       "0  daman & diu revokes mandatory rakshabandhan in...   \n",
       "1  malaika slams user who trolled her for 'divorc...   \n",
       "2  'virgin' now corrected to 'unmarried' in igims...   \n",
       "3  aaj aapne pakad liya: let man dujana before be...   \n",
       "4  hotel staff to get training to spot signs of s...   \n",
       "\n",
       "                                                text  \\\n",
       "0  the administration of union territory daman an...   \n",
       "1  malaika arora slammed an instagram user who tr...   \n",
       "2  the indira gandhi institute of medical science...   \n",
       "3  lashkar-e-taiba's kashmir commander abu dujana...   \n",
       "4  hotels in maharashtra will train their staff t...   \n",
       "\n",
       "                                               ctext  \n",
       "0  the daman and diu administration on wednesday ...  \n",
       "1  from her special numbers to tv?appearances, bo...  \n",
       "2  the indira gandhi institute of medical science...  \n",
       "3  lashkar-e-taiba's kashmir commander abu dujana...  \n",
       "4  hotels in mumbai and other indian cities are t...  "
      ]
     },
     "execution_count": 11,
     "metadata": {},
     "output_type": "execute_result"
    }
   ],
   "source": [
    "# Converting to lowercase\n",
    "df['ctext'] = df['ctext'].apply(str.lower)\n",
    "df['text'] = df['text'].apply(str.lower)\n",
    "df['headlines'] = df['headlines'].apply(str.lower)\n",
    "df.head()"
   ]
  },
  {
   "cell_type": "code",
   "execution_count": 12,
   "metadata": {
    "tags": []
   },
   "outputs": [
    {
     "data": {
      "text/html": [
       "<div>\n",
       "<style scoped>\n",
       "    .dataframe tbody tr th:only-of-type {\n",
       "        vertical-align: middle;\n",
       "    }\n",
       "\n",
       "    .dataframe tbody tr th {\n",
       "        vertical-align: top;\n",
       "    }\n",
       "\n",
       "    .dataframe thead th {\n",
       "        text-align: right;\n",
       "    }\n",
       "</style>\n",
       "<table border=\"1\" class=\"dataframe\">\n",
       "  <thead>\n",
       "    <tr style=\"text-align: right;\">\n",
       "      <th></th>\n",
       "      <th>headlines</th>\n",
       "      <th>text</th>\n",
       "      <th>ctext</th>\n",
       "      <th>headlines_length</th>\n",
       "      <th>text_length</th>\n",
       "      <th>ctext_length</th>\n",
       "    </tr>\n",
       "  </thead>\n",
       "  <tbody>\n",
       "    <tr>\n",
       "      <th>0</th>\n",
       "      <td>daman &amp; diu revokes mandatory rakshabandhan in...</td>\n",
       "      <td>the administration of union territory daman an...</td>\n",
       "      <td>the daman and diu administration on wednesday ...</td>\n",
       "      <td>9</td>\n",
       "      <td>60</td>\n",
       "      <td>364</td>\n",
       "    </tr>\n",
       "    <tr>\n",
       "      <th>1</th>\n",
       "      <td>malaika slams user who trolled her for 'divorc...</td>\n",
       "      <td>malaika arora slammed an instagram user who tr...</td>\n",
       "      <td>from her special numbers to tv?appearances, bo...</td>\n",
       "      <td>10</td>\n",
       "      <td>60</td>\n",
       "      <td>396</td>\n",
       "    </tr>\n",
       "    <tr>\n",
       "      <th>2</th>\n",
       "      <td>'virgin' now corrected to 'unmarried' in igims...</td>\n",
       "      <td>the indira gandhi institute of medical science...</td>\n",
       "      <td>the indira gandhi institute of medical science...</td>\n",
       "      <td>8</td>\n",
       "      <td>60</td>\n",
       "      <td>335</td>\n",
       "    </tr>\n",
       "    <tr>\n",
       "      <th>3</th>\n",
       "      <td>aaj aapne pakad liya: let man dujana before be...</td>\n",
       "      <td>lashkar-e-taiba's kashmir commander abu dujana...</td>\n",
       "      <td>lashkar-e-taiba's kashmir commander abu dujana...</td>\n",
       "      <td>10</td>\n",
       "      <td>60</td>\n",
       "      <td>404</td>\n",
       "    </tr>\n",
       "    <tr>\n",
       "      <th>4</th>\n",
       "      <td>hotel staff to get training to spot signs of s...</td>\n",
       "      <td>hotels in maharashtra will train their staff t...</td>\n",
       "      <td>hotels in mumbai and other indian cities are t...</td>\n",
       "      <td>11</td>\n",
       "      <td>60</td>\n",
       "      <td>526</td>\n",
       "    </tr>\n",
       "  </tbody>\n",
       "</table>\n",
       "</div>"
      ],
      "text/plain": [
       "                                           headlines  \\\n",
       "0  daman & diu revokes mandatory rakshabandhan in...   \n",
       "1  malaika slams user who trolled her for 'divorc...   \n",
       "2  'virgin' now corrected to 'unmarried' in igims...   \n",
       "3  aaj aapne pakad liya: let man dujana before be...   \n",
       "4  hotel staff to get training to spot signs of s...   \n",
       "\n",
       "                                                text  \\\n",
       "0  the administration of union territory daman an...   \n",
       "1  malaika arora slammed an instagram user who tr...   \n",
       "2  the indira gandhi institute of medical science...   \n",
       "3  lashkar-e-taiba's kashmir commander abu dujana...   \n",
       "4  hotels in maharashtra will train their staff t...   \n",
       "\n",
       "                                               ctext  headlines_length  \\\n",
       "0  the daman and diu administration on wednesday ...                 9   \n",
       "1  from her special numbers to tv?appearances, bo...                10   \n",
       "2  the indira gandhi institute of medical science...                 8   \n",
       "3  lashkar-e-taiba's kashmir commander abu dujana...                10   \n",
       "4  hotels in mumbai and other indian cities are t...                11   \n",
       "\n",
       "   text_length  ctext_length  \n",
       "0           60           364  \n",
       "1           60           396  \n",
       "2           60           335  \n",
       "3           60           404  \n",
       "4           60           526  "
      ]
     },
     "execution_count": 12,
     "metadata": {},
     "output_type": "execute_result"
    }
   ],
   "source": [
    "df['headlines_length'] = [len(x.split()) for x in df.headlines]\n",
    "df['text_length'] = [len(x.split()) for x in df.text]\n",
    "df['ctext_length'] = [len(x.split()) for x in df.ctext]\n",
    "df.head()"
   ]
  },
  {
   "cell_type": "code",
   "execution_count": 13,
   "metadata": {
    "tags": []
   },
   "outputs": [
    {
     "data": {
      "text/html": [
       "<div>\n",
       "<style scoped>\n",
       "    .dataframe tbody tr th:only-of-type {\n",
       "        vertical-align: middle;\n",
       "    }\n",
       "\n",
       "    .dataframe tbody tr th {\n",
       "        vertical-align: top;\n",
       "    }\n",
       "\n",
       "    .dataframe thead th {\n",
       "        text-align: right;\n",
       "    }\n",
       "</style>\n",
       "<table border=\"1\" class=\"dataframe\">\n",
       "  <thead>\n",
       "    <tr style=\"text-align: right;\">\n",
       "      <th></th>\n",
       "      <th>headlines_length</th>\n",
       "      <th>text_length</th>\n",
       "      <th>ctext_length</th>\n",
       "    </tr>\n",
       "  </thead>\n",
       "  <tbody>\n",
       "    <tr>\n",
       "      <th>count</th>\n",
       "      <td>4274.000000</td>\n",
       "      <td>4274.000000</td>\n",
       "      <td>4274.000000</td>\n",
       "    </tr>\n",
       "    <tr>\n",
       "      <th>mean</th>\n",
       "      <td>9.300889</td>\n",
       "      <td>58.299719</td>\n",
       "      <td>351.740056</td>\n",
       "    </tr>\n",
       "    <tr>\n",
       "      <th>std</th>\n",
       "      <td>1.407168</td>\n",
       "      <td>2.314246</td>\n",
       "      <td>358.884472</td>\n",
       "    </tr>\n",
       "    <tr>\n",
       "      <th>min</th>\n",
       "      <td>4.000000</td>\n",
       "      <td>44.000000</td>\n",
       "      <td>50.000000</td>\n",
       "    </tr>\n",
       "    <tr>\n",
       "      <th>25%</th>\n",
       "      <td>8.000000</td>\n",
       "      <td>57.000000</td>\n",
       "      <td>193.000000</td>\n",
       "    </tr>\n",
       "    <tr>\n",
       "      <th>50%</th>\n",
       "      <td>9.000000</td>\n",
       "      <td>59.000000</td>\n",
       "      <td>288.000000</td>\n",
       "    </tr>\n",
       "    <tr>\n",
       "      <th>75%</th>\n",
       "      <td>10.000000</td>\n",
       "      <td>60.000000</td>\n",
       "      <td>416.000000</td>\n",
       "    </tr>\n",
       "    <tr>\n",
       "      <th>max</th>\n",
       "      <td>14.000000</td>\n",
       "      <td>62.000000</td>\n",
       "      <td>12202.000000</td>\n",
       "    </tr>\n",
       "  </tbody>\n",
       "</table>\n",
       "</div>"
      ],
      "text/plain": [
       "       headlines_length  text_length  ctext_length\n",
       "count       4274.000000  4274.000000   4274.000000\n",
       "mean           9.300889    58.299719    351.740056\n",
       "std            1.407168     2.314246    358.884472\n",
       "min            4.000000    44.000000     50.000000\n",
       "25%            8.000000    57.000000    193.000000\n",
       "50%            9.000000    59.000000    288.000000\n",
       "75%           10.000000    60.000000    416.000000\n",
       "max           14.000000    62.000000  12202.000000"
      ]
     },
     "execution_count": 13,
     "metadata": {},
     "output_type": "execute_result"
    }
   ],
   "source": [
    "df = df[df['ctext_length'] >= df['text_length']]\n",
    "df.describe()"
   ]
  },
  {
   "cell_type": "code",
   "execution_count": 14,
   "metadata": {
    "tags": []
   },
   "outputs": [
    {
     "data": {
      "image/png": "[encoded data removed]",
      "text/plain": [
       "<Figure size 1500x600 with 1 Axes>"
      ]
     },
     "metadata": {},
     "output_type": "display_data"
    }
   ],
   "source": [
    "df['diff'] = df['ctext_length'] - df['text_length']\n",
    "#sns.set(style=\"whitegrid\")\n",
    "color1 = sns.color_palette(\"Paired\")[3] \n",
    "color2 = sns.color_palette(\"Paired\")[2]  \n",
    "\n",
    "plt.figure(figsize=(15, 6))\n",
    "bar1 = plt.bar(df.index, df['text_length'], color=color1, label='Summarization Length', width=1.0)\n",
    "bar2 = plt.bar(df.index, df['diff'], bottom=df['text_length'], color=color2, label='Difference(News Length - Summarization Length)', width=1.0)\n",
    "\n",
    "plt.xlabel('Index')\n",
    "plt.ylabel('Word Count')\n",
    "plt.title('Bar Chart of News Length and Summarization Length')\n",
    "plt.legend()\n",
    "plt.yscale('log')\n",
    "plt.show()"
   ]
  },
  {
   "cell_type": "code",
   "execution_count": 15,
   "metadata": {
    "tags": []
   },
   "outputs": [
    {
     "data": {
      "text/html": [
       "<div>\n",
       "<style scoped>\n",
       "    .dataframe tbody tr th:only-of-type {\n",
       "        vertical-align: middle;\n",
       "    }\n",
       "\n",
       "    .dataframe tbody tr th {\n",
       "        vertical-align: top;\n",
       "    }\n",
       "\n",
       "    .dataframe thead th {\n",
       "        text-align: right;\n",
       "    }\n",
       "</style>\n",
       "<table border=\"1\" class=\"dataframe\">\n",
       "  <thead>\n",
       "    <tr style=\"text-align: right;\">\n",
       "      <th></th>\n",
       "      <th>headlines</th>\n",
       "      <th>text</th>\n",
       "      <th>ctext</th>\n",
       "    </tr>\n",
       "  </thead>\n",
       "  <tbody>\n",
       "    <tr>\n",
       "      <th>0</th>\n",
       "      <td>daman &amp; diu revokes mandatory rakshabandhan in...</td>\n",
       "      <td>the administration of union territory daman an...</td>\n",
       "      <td>the daman and diu administration on wednesday ...</td>\n",
       "    </tr>\n",
       "    <tr>\n",
       "      <th>1</th>\n",
       "      <td>malaika slams user who trolled her for 'divorc...</td>\n",
       "      <td>malaika arora slammed an instagram user who tr...</td>\n",
       "      <td>from her special numbers to tv?appearances, bo...</td>\n",
       "    </tr>\n",
       "    <tr>\n",
       "      <th>2</th>\n",
       "      <td>'virgin' now corrected to 'unmarried' in igims...</td>\n",
       "      <td>the indira gandhi institute of medical science...</td>\n",
       "      <td>the indira gandhi institute of medical science...</td>\n",
       "    </tr>\n",
       "    <tr>\n",
       "      <th>3</th>\n",
       "      <td>aaj aapne pakad liya: let man dujana before be...</td>\n",
       "      <td>lashkar-e-taiba's kashmir commander abu dujana...</td>\n",
       "      <td>lashkar-e-taiba's kashmir commander abu dujana...</td>\n",
       "    </tr>\n",
       "    <tr>\n",
       "      <th>4</th>\n",
       "      <td>hotel staff to get training to spot signs of s...</td>\n",
       "      <td>hotels in maharashtra will train their staff t...</td>\n",
       "      <td>hotels in mumbai and other indian cities are t...</td>\n",
       "    </tr>\n",
       "  </tbody>\n",
       "</table>\n",
       "</div>"
      ],
      "text/plain": [
       "                                           headlines  \\\n",
       "0  daman & diu revokes mandatory rakshabandhan in...   \n",
       "1  malaika slams user who trolled her for 'divorc...   \n",
       "2  'virgin' now corrected to 'unmarried' in igims...   \n",
       "3  aaj aapne pakad liya: let man dujana before be...   \n",
       "4  hotel staff to get training to spot signs of s...   \n",
       "\n",
       "                                                text  \\\n",
       "0  the administration of union territory daman an...   \n",
       "1  malaika arora slammed an instagram user who tr...   \n",
       "2  the indira gandhi institute of medical science...   \n",
       "3  lashkar-e-taiba's kashmir commander abu dujana...   \n",
       "4  hotels in maharashtra will train their staff t...   \n",
       "\n",
       "                                               ctext  \n",
       "0  the daman and diu administration on wednesday ...  \n",
       "1  from her special numbers to tv?appearances, bo...  \n",
       "2  the indira gandhi institute of medical science...  \n",
       "3  lashkar-e-taiba's kashmir commander abu dujana...  \n",
       "4  hotels in mumbai and other indian cities are t...  "
      ]
     },
     "execution_count": 15,
     "metadata": {},
     "output_type": "execute_result"
    }
   ],
   "source": [
    "df = df.drop(columns=['headlines_length', 'text_length', 'ctext_length', 'diff'])\n",
    "df.head()"
   ]
  },
  {
   "cell_type": "code",
   "execution_count": 16,
   "metadata": {
    "tags": []
   },
   "outputs": [
    {
     "data": {
      "text/html": [
       "<div>\n",
       "<style scoped>\n",
       "    .dataframe tbody tr th:only-of-type {\n",
       "        vertical-align: middle;\n",
       "    }\n",
       "\n",
       "    .dataframe tbody tr th {\n",
       "        vertical-align: top;\n",
       "    }\n",
       "\n",
       "    .dataframe thead th {\n",
       "        text-align: right;\n",
       "    }\n",
       "</style>\n",
       "<table border=\"1\" class=\"dataframe\">\n",
       "  <thead>\n",
       "    <tr style=\"text-align: right;\">\n",
       "      <th></th>\n",
       "      <th>summary</th>\n",
       "      <th>news</th>\n",
       "    </tr>\n",
       "  </thead>\n",
       "  <tbody>\n",
       "    <tr>\n",
       "      <th>0</th>\n",
       "      <td>the administration of union territory daman an...</td>\n",
       "      <td>daman &amp; diu revokes mandatory rakshabandhan in...</td>\n",
       "    </tr>\n",
       "    <tr>\n",
       "      <th>1</th>\n",
       "      <td>malaika arora slammed an instagram user who tr...</td>\n",
       "      <td>malaika slams user who trolled her for 'divorc...</td>\n",
       "    </tr>\n",
       "    <tr>\n",
       "      <th>2</th>\n",
       "      <td>the indira gandhi institute of medical science...</td>\n",
       "      <td>'virgin' now corrected to 'unmarried' in igims...</td>\n",
       "    </tr>\n",
       "    <tr>\n",
       "      <th>3</th>\n",
       "      <td>lashkar-e-taiba's kashmir commander abu dujana...</td>\n",
       "      <td>aaj aapne pakad liya: let man dujana before be...</td>\n",
       "    </tr>\n",
       "    <tr>\n",
       "      <th>4</th>\n",
       "      <td>hotels in maharashtra will train their staff t...</td>\n",
       "      <td>hotel staff to get training to spot signs of s...</td>\n",
       "    </tr>\n",
       "  </tbody>\n",
       "</table>\n",
       "</div>"
      ],
      "text/plain": [
       "                                             summary  \\\n",
       "0  the administration of union territory daman an...   \n",
       "1  malaika arora slammed an instagram user who tr...   \n",
       "2  the indira gandhi institute of medical science...   \n",
       "3  lashkar-e-taiba's kashmir commander abu dujana...   \n",
       "4  hotels in maharashtra will train their staff t...   \n",
       "\n",
       "                                                news  \n",
       "0  daman & diu revokes mandatory rakshabandhan in...  \n",
       "1  malaika slams user who trolled her for 'divorc...  \n",
       "2  'virgin' now corrected to 'unmarried' in igims...  \n",
       "3  aaj aapne pakad liya: let man dujana before be...  \n",
       "4  hotel staff to get training to spot signs of s...  "
      ]
     },
     "execution_count": 16,
     "metadata": {},
     "output_type": "execute_result"
    }
   ],
   "source": [
    "df['news'] = df['headlines'] + '. ' + df['ctext']\n",
    "df.rename(columns={\"text\": \"summary\"}, inplace = True)\n",
    "df = df.drop(columns=['headlines', 'ctext'])\n",
    "df.head()"
   ]
  },
  {
   "cell_type": "code",
   "execution_count": 17,
   "metadata": {
    "tags": []
   },
   "outputs": [
    {
     "data": {
      "text/html": [
       "<div>\n",
       "<style scoped>\n",
       "    .dataframe tbody tr th:only-of-type {\n",
       "        vertical-align: middle;\n",
       "    }\n",
       "\n",
       "    .dataframe tbody tr th {\n",
       "        vertical-align: top;\n",
       "    }\n",
       "\n",
       "    .dataframe thead th {\n",
       "        text-align: right;\n",
       "    }\n",
       "</style>\n",
       "<table border=\"1\" class=\"dataframe\">\n",
       "  <thead>\n",
       "    <tr style=\"text-align: right;\">\n",
       "      <th></th>\n",
       "      <th>summary</th>\n",
       "      <th>news</th>\n",
       "    </tr>\n",
       "  </thead>\n",
       "  <tbody>\n",
       "    <tr>\n",
       "      <th>0</th>\n",
       "      <td>the administration of union territory daman an...</td>\n",
       "      <td>summarize: daman &amp; diu revokes mandatory raksh...</td>\n",
       "    </tr>\n",
       "    <tr>\n",
       "      <th>1</th>\n",
       "      <td>malaika arora slammed an instagram user who tr...</td>\n",
       "      <td>summarize: malaika slams user who trolled her ...</td>\n",
       "    </tr>\n",
       "    <tr>\n",
       "      <th>2</th>\n",
       "      <td>the indira gandhi institute of medical science...</td>\n",
       "      <td>summarize: 'virgin' now corrected to 'unmarrie...</td>\n",
       "    </tr>\n",
       "    <tr>\n",
       "      <th>3</th>\n",
       "      <td>lashkar-e-taiba's kashmir commander abu dujana...</td>\n",
       "      <td>summarize: aaj aapne pakad liya: let man dujan...</td>\n",
       "    </tr>\n",
       "    <tr>\n",
       "      <th>4</th>\n",
       "      <td>hotels in maharashtra will train their staff t...</td>\n",
       "      <td>summarize: hotel staff to get training to spot...</td>\n",
       "    </tr>\n",
       "  </tbody>\n",
       "</table>\n",
       "</div>"
      ],
      "text/plain": [
       "                                             summary  \\\n",
       "0  the administration of union territory daman an...   \n",
       "1  malaika arora slammed an instagram user who tr...   \n",
       "2  the indira gandhi institute of medical science...   \n",
       "3  lashkar-e-taiba's kashmir commander abu dujana...   \n",
       "4  hotels in maharashtra will train their staff t...   \n",
       "\n",
       "                                                news  \n",
       "0  summarize: daman & diu revokes mandatory raksh...  \n",
       "1  summarize: malaika slams user who trolled her ...  \n",
       "2  summarize: 'virgin' now corrected to 'unmarrie...  \n",
       "3  summarize: aaj aapne pakad liya: let man dujan...  \n",
       "4  summarize: hotel staff to get training to spot...  "
      ]
     },
     "execution_count": 17,
     "metadata": {},
     "output_type": "execute_result"
    }
   ],
   "source": [
    "# Making the dataset\n",
    "prefix = 'summarize: '\n",
    "df['news'] = prefix + df['news']\n",
    "df.head()"
   ]
  },
  {
   "cell_type": "code",
   "execution_count": 18,
   "metadata": {
    "tags": []
   },
   "outputs": [
    {
     "name": "stdout",
     "output_type": "stream",
     "text": [
      "train and val shape: (4231, 2) test shape: (43, 2)\n"
     ]
    },
    {
     "data": {
      "text/plain": [
       "{'summary': 'the bengaluru police on tuesday arrested seven people, including a hawala operator, for converting demonetised notes into new currency. the police have also recovered ?93 lakh in new currency from the middlemen after multiple government agency raids. further, the cbi has also registered cases against the officials of four karnataka banks on charges of converting old notes into new ones.',\n",
       " 'news': 'summarize: 7 held for converting old notes into new in bengaluru. seven people, including a hawala operator, were arrested in bengaluru today as part of a racket that converted black money in banned rs 500 and rs 1000 notes into the new rs 2000 currency notes.rs 93 lakh in new currency was found with the middlemen after multiple government agencies raided them.\\xa0one of the arrested has been identified as kv virendra, who is believed to be running a casino in goa. he was produced before a special court in bengaluru which has sent him to six days of cbi custody for questioning.the cbi has also registered cases against the officials of four karnataka banks - state bank of india, state bank of mysore, icici bank and kotak mahindra bank - on charges of converting old notes with rs 2000 notes.the cbi sources said that during preliminary probe, the names of several persons have been taken by veerendra and it is trying to gather material evidence linking the alleged hawala operator with them. the seven accused are reported to be charging 15 to 35 per cent commission for their work from black money hoarders.also read:demonetisation the biggest scam of 2016: former finance minister p chidambaramblack money crackdown: rs 60 crore cash, 245 kg gold seized from 10 airports since demonetisationtamil nadu: new notes worth rs 24 crore seized in vellore, total recovery rises to rs 166 crore \\xa0'}"
      ]
     },
     "execution_count": 18,
     "metadata": {},
     "output_type": "execute_result"
    }
   ],
   "source": [
    "# Converting the pandas dataset to huggingface dataset\n",
    "# first split the train and test set\n",
    "train_df, test_df = train_test_split(df, test_size=0.01, shuffle=True)\n",
    "print(\"train and val shape:\", train_df.shape, \"test shape:\",test_df.shape)\n",
    "# save for every model inference\n",
    "global_train_df = train_df\n",
    "global_test_df = test_df\n",
    "train_df = datasets.Dataset.from_pandas(train_df)\n",
    "train_df = train_df.remove_columns([\"__index_level_0__\"])\n",
    "# split train into train and val\n",
    "train_df = train_df.train_test_split(test_size=0.2, shuffle=True) # split train and test\n",
    "train_df[\"train\"][0]"
   ]
  },
  {
   "cell_type": "code",
   "execution_count": 19,
   "metadata": {
    "tags": []
   },
   "outputs": [
    {
     "name": "stdout",
     "output_type": "stream",
     "text": [
      "<class 'datasets.dataset_dict.DatasetDict'>\n"
     ]
    },
    {
     "data": {
      "text/plain": [
       "DatasetDict({\n",
       "    train: Dataset({\n",
       "        features: ['summary', 'news'],\n",
       "        num_rows: 3384\n",
       "    })\n",
       "    val: Dataset({\n",
       "        features: ['summary', 'news'],\n",
       "        num_rows: 847\n",
       "    })\n",
       "})"
      ]
     },
     "execution_count": 19,
     "metadata": {},
     "output_type": "execute_result"
    }
   ],
   "source": [
    "# Fitting into dataset dict\n",
    "train_val_test_dataset = DatasetDict({\n",
    "    'train': train_df[\"train\"],\n",
    "    'val': train_df['test']})\n",
    "\n",
    "print(type(train_val_test_dataset))\n",
    "train_val_test_dataset"
   ]
  },
  {
   "cell_type": "code",
   "execution_count": 20,
   "metadata": {
    "tags": []
   },
   "outputs": [],
   "source": [
    "def prepare_dataset(data):\n",
    "    inputs = data[\"news\"]\n",
    "    model_inputs = tokenizer(inputs, max_length=512, truncation=True)\n",
    "    labels = tokenizer(text_target=data[\"summary\"], max_length=128, truncation=True)\n",
    "    model_inputs[\"labels\"] = labels[\"input_ids\"]\n",
    "    return model_inputs"
   ]
  },
  {
   "cell_type": "code",
   "execution_count": 21,
   "metadata": {
    "tags": []
   },
   "outputs": [],
   "source": [
    "def compute_metrics(eval_pred):\n",
    "    predictions, labels = eval_pred\n",
    "    decoded_preds = tokenizer.batch_decode(predictions, skip_special_tokens=True)\n",
    "    labels = np.where(labels != -100, labels, tokenizer.pad_token_id)\n",
    "    decoded_labels = tokenizer.batch_decode(labels, skip_special_tokens=True)\n",
    "    result = Rouge().get_scores(decoded_preds, decoded_labels, avg=True, ignore_empty=True)\n",
    "\n",
    "    # prediction_lens = [np.count_nonzero(pred != tokenizer.pad_token_id) for pred in predictions]\n",
    "    # result[\"gen_len\"] = np.mean(prediction_lens)\n",
    "\n",
    "    return result"
   ]
  },
  {
   "cell_type": "markdown",
   "metadata": {},
   "source": [
    "## [Text-To-Text Transfer Transformer (T5)](https://huggingface.co/docs/transformers/model_doc/t5)\n",
    "\n",
    "T5 is an encoder-decoder model pre-trained on a multi-task mixture of unsupervised and supervised tasks and for which each task is converted into a text-to-text format. The T5 model was presented in [Exploring the Limits of Transfer Learning with a Unified Text-to-Text Transformer](https://arxiv.org/pdf/1910.10683.pdf) by Colin Raffel, Noam Shazeer, Adam Roberts, Katherine Lee, Sharan Narang, Michael Matena, Yanqi Zhou, Wei Li, Peter J. Liu.\n",
    "\n",
    "T5 works well on a variety of tasks out-of-the-box by prepending a different prefix to the input corresponding to each task, e.g., for translation: translate English to German: …, for summarization: summarize: …\n",
    "\n",
    "![T5](https://camo.githubusercontent.com/623b4dea0b653f2ad3f36c71ebfe749a677ac0a1/68747470733a2f2f6d69726f2e6d656469756d2e636f6d2f6d61782f343030362f312a44304a31674e51663876727255704b657944387750412e706e67)\n",
    "\n",
    "### T5 Fine-tuning"
   ]
  },
  {
   "cell_type": "code",
   "execution_count": 22,
   "metadata": {
    "tags": []
   },
   "outputs": [],
   "source": [
    "# tokenize the data\n",
    "model_name = \"t5-base\"\n",
    "tokenizer = AutoTokenizer.from_pretrained(model_name)"
   ]
  },
  {
   "cell_type": "code",
   "execution_count": 23,
   "metadata": {
    "tags": []
   },
   "outputs": [
    {
     "data": {
      "application/vnd.jupyter.widget-view+json": {
       "model_id": "11d42ebb5fee484aa38cdc696d012a0b",
       "version_major": 2,
       "version_minor": 0
      },
      "text/plain": [
       "Map:   0%|          | 0/3384 [00:00<?, ? examples/s]"
      ]
     },
     "metadata": {},
     "output_type": "display_data"
    },
    {
     "data": {
      "application/vnd.jupyter.widget-view+json": {
       "model_id": "cc4338311df44c6891441f27e0c9c49f",
       "version_major": 2,
       "version_minor": 0
      },
      "text/plain": [
       "Map:   0%|          | 0/847 [00:00<?, ? examples/s]"
      ]
     },
     "metadata": {},
     "output_type": "display_data"
    }
   ],
   "source": [
    "tokenized_data = train_val_test_dataset.map(prepare_dataset, batched=True)"
   ]
  },
  {
   "cell_type": "code",
   "execution_count": 24,
   "metadata": {
    "tags": []
   },
   "outputs": [
    {
     "data": {
      "text/plain": [
       "Dataset({\n",
       "    features: ['summary', 'news', 'input_ids', 'attention_mask', 'labels'],\n",
       "    num_rows: 3384\n",
       "})"
      ]
     },
     "execution_count": 24,
     "metadata": {},
     "output_type": "execute_result"
    }
   ],
   "source": [
    "tokenized_data[\"train\"]"
   ]
  },
  {
   "cell_type": "markdown",
   "metadata": {},
   "source": [
    "Now create a batch of examples using [DataCollatorForSeq2Seq](https://huggingface.co/docs/transformers/v4.35.0/en/main_classes/data_collator#transformers.DataCollatorForSeq2Seq). It’s more efficient to dynamically pad the sentences to the longest length in a batch during collation, instead of padding the whole dataset to the maximum length."
   ]
  },
  {
   "cell_type": "code",
   "execution_count": 25,
   "metadata": {
    "tags": []
   },
   "outputs": [],
   "source": [
    "# Padding\n",
    "data_collator = DataCollatorForSeq2Seq(tokenizer=tokenizer, model=model_name)"
   ]
  },
  {
   "cell_type": "code",
   "execution_count": 26,
   "metadata": {
    "tags": []
   },
   "outputs": [],
   "source": [
    "# prepare the model\n",
    "T5model = AutoModelForSeq2SeqLM.from_pretrained(model_name).to(device)"
   ]
  },
  {
   "cell_type": "code",
   "execution_count": 27,
   "metadata": {
    "tags": []
   },
   "outputs": [],
   "source": [
    "# set up hyper-parameters\n",
    "training_args = Seq2SeqTrainingArguments(\n",
    "    output_dir=\"t5-news\",\n",
    "    evaluation_strategy=\"epoch\",\n",
    "    learning_rate=2e-5,\n",
    "    per_device_train_batch_size=16,\n",
    "    per_device_eval_batch_size=16,\n",
    "    weight_decay=0.01,\n",
    "    save_total_limit=2,\n",
    "    num_train_epochs=4,\n",
    "    predict_with_generate=True,\n",
    "    fp16=True,\n",
    "    report_to=\"none\"\n",
    ")"
   ]
  },
  {
   "cell_type": "code",
   "execution_count": 28,
   "metadata": {
    "tags": []
   },
   "outputs": [],
   "source": [
    "# setup trainer\n",
    "trainer = Seq2SeqTrainer(\n",
    "    model = T5model,\n",
    "    args = training_args,\n",
    "    train_dataset = tokenized_data[\"train\"],\n",
    "    eval_dataset = tokenized_data[\"val\"],\n",
    "    tokenizer = tokenizer,\n",
    "    data_collator = data_collator,\n",
    "    compute_metrics = compute_metrics\n",
    ")"
   ]
  },
  {
   "cell_type": "code",
   "execution_count": 29,
   "metadata": {
    "tags": []
   },
   "outputs": [
    {
     "name": "stderr",
     "output_type": "stream",
     "text": [
      "You're using a T5TokenizerFast tokenizer. Please note that with a fast tokenizer, using the `__call__` method is faster than using a method to encode the text followed by a call to the `pad` method to get a padded encoding.\n"
     ]
    },
    {
     "data": {
      "text/html": [
       "\n",
       "    <div>\n",
       "      \n",
       "      <progress value='848' max='848' style='width:300px; height:20px; vertical-align: middle;'></progress>\n",
       "      [848/848 14:37, Epoch 4/4]\n",
       "    </div>\n",
       "    <table border=\"1\" class=\"dataframe\">\n",
       "  <thead>\n",
       " <tr style=\"text-align: left;\">\n",
       "      <th>Epoch</th>\n",
       "      <th>Training Loss</th>\n",
       "      <th>Validation Loss</th>\n",
       "      <th>Rouge-1</th>\n",
       "      <th>Rouge-2</th>\n",
       "      <th>Rouge-l</th>\n",
       "    </tr>\n",
       "  </thead>\n",
       "  <tbody>\n",
       "    <tr>\n",
       "      <td>1</td>\n",
       "      <td>No log</td>\n",
       "      <td>1.319141</td>\n",
       "      <td>{'r': 0.15126518671941575, 'p': 0.6610498391307822, 'f': 0.24346445799582436}</td>\n",
       "      <td>{'r': 0.06909807368668162, 'p': 0.38346073648785656, 'f': 0.11572111449931494}</td>\n",
       "      <td>{'r': 0.14099252867181974, 'p': 0.6168981241382111, 'f': 0.22698685488348022}</td>\n",
       "    </tr>\n",
       "    <tr>\n",
       "      <td>2</td>\n",
       "      <td>No log</td>\n",
       "      <td>1.289619</td>\n",
       "      <td>{'r': 0.1525239134058738, 'p': 0.6656847823604196, 'f': 0.24547257846404047}</td>\n",
       "      <td>{'r': 0.06998339773798573, 'p': 0.3881967168766596, 'f': 0.11721576387595199}</td>\n",
       "      <td>{'r': 0.14200284757697781, 'p': 0.6208435255278791, 'f': 0.2286158963692574}</td>\n",
       "    </tr>\n",
       "    <tr>\n",
       "      <td>3</td>\n",
       "      <td>1.458800</td>\n",
       "      <td>1.279126</td>\n",
       "      <td>{'r': 0.15420417084086563, 'p': 0.6733302569905806, 'f': 0.2482181306714381}</td>\n",
       "      <td>{'r': 0.07247727268640175, 'p': 0.40203066518175196, 'f': 0.12142154593334124}</td>\n",
       "      <td>{'r': 0.14381709654707744, 'p': 0.6291636333201722, 'f': 0.2315801240010184}</td>\n",
       "    </tr>\n",
       "    <tr>\n",
       "      <td>4</td>\n",
       "      <td>1.458800</td>\n",
       "      <td>1.275695</td>\n",
       "      <td>{'r': 0.1539475344553024, 'p': 0.6726527729896019, 'f': 0.24782817399843007}</td>\n",
       "      <td>{'r': 0.07249820126718223, 'p': 0.4029008677196051, 'f': 0.12147852983332616}</td>\n",
       "      <td>{'r': 0.14351476598776514, 'p': 0.6281331375139976, 'f': 0.23110779026430733}</td>\n",
       "    </tr>\n",
       "  </tbody>\n",
       "</table><p>"
      ],
      "text/plain": [
       "<IPython.core.display.HTML object>"
      ]
     },
     "metadata": {},
     "output_type": "display_data"
    },
    {
     "data": {
      "text/plain": [
       "TrainOutput(global_step=848, training_loss=1.4205372648419075, metrics={'train_runtime': 879.4689, 'train_samples_per_second': 15.391, 'train_steps_per_second': 0.964, 'total_flos': 8242854006620160.0, 'train_loss': 1.4205372648419075, 'epoch': 4.0})"
      ]
     },
     "execution_count": 29,
     "metadata": {},
     "output_type": "execute_result"
    }
   ],
   "source": [
    "trainer.train()"
   ]
  },
  {
   "cell_type": "code",
   "execution_count": 30,
   "metadata": {
    "tags": []
   },
   "outputs": [],
   "source": [
    "# save the model\n",
    "model_path = \"t5-news\"\n",
    "trainer.save_model(model_path)"
   ]
  },
  {
   "cell_type": "markdown",
   "metadata": {},
   "source": [
    "### T5 Inference\n",
    "Try the fine-tuned T5 model for our news test set!"
   ]
  },
  {
   "cell_type": "code",
   "execution_count": 31,
   "metadata": {
    "tags": []
   },
   "outputs": [],
   "source": [
    "# Free up memory\n",
    "torch.cuda.empty_cache()"
   ]
  },
  {
   "cell_type": "code",
   "execution_count": 32,
   "metadata": {
    "tags": []
   },
   "outputs": [],
   "source": [
    "# load the model\n",
    "model = AutoModelForSeq2SeqLM.from_pretrained(\"t5-news\")"
   ]
  },
  {
   "cell_type": "code",
   "execution_count": 33,
   "metadata": {
    "tags": []
   },
   "outputs": [
    {
     "name": "stdout",
     "output_type": "stream",
     "text": [
      "original_news:  summarize: science express flagged off for climate change awareness. new delhi, feb 17 (pti) a science express train was flagged off today on a seven-month journey that will cover 68 stations across the country, including agartala and lumding in the northeast, to spread awareness about climate change. named science express climate action special, with the collaborative efforts of ministries of railways, environment and science and technology, the 16-coach train will travel to tripura and to the north bank of the brahmaputra for the first time. exhibits of eight coaches of the train are devoted to information, caste studies and materials related to various aspects of climate change. the exhibitions mounted by the environment ministry will also showcase the underlying science, impacts, adaption activities, mitigation solutions and policy approaches in a manner that is easy to understand and interesting for not just school students but also the masses. the focus is on what can be done at school, on roads, at home and in offices and also on the concept of lifestyle choices. a kids zone is set up for children from class 4 and below to participate in fun-filled activities, game and puzzles in science, mathematics and environment. \n"
     ]
    },
    {
     "name": "stderr",
     "output_type": "stream",
     "text": [
      "Token indices sequence length is longer than the specified maximum sequence length for this model (740 > 512). Running this sequence through the model will result in indexing errors\n"
     ]
    },
    {
     "name": "stdout",
     "output_type": "stream",
     "text": [
      "{'summary_text': 'a science express train was flagged off today on a seven-month journey that will cover 68 stations across the country, including agartala and lumding in the northeast. the train, named science express climate action special, will travel to tripura and to the north bank of the brahmaputra for the first time. exhibits of eight coaches of the train are devoted to information, caste studies and materials related to various aspects of climate'}\n",
      "\n",
      "original_news:  summarize: leftists celebrate when our jawans die: kiren rijiju. union minister kiren rijiju has accused left parties of misleading people amid the raging controversy over delhi university student gurmehar kaur's social media posts . kaur, daughter of captain mandeep singh who was martyred in a terrorist attack in jammu and kashmir in 1999, is at the centre of a huge row which erupted after her posts on social media against the violence which took place at du's ramjas college last week.\"she(gurmehar kaur) is a young girl, creating controversy over her isn't right. it is about leftists who celebrate when our jawans die,\" rijiju said. \"during war between india and china they (left) supported china; they mislead the youth and it is not right,\"  the minister of state for home affairs added. \"she is a martyr's daughter. his soul must be weeping that his daughter is being misguided by those who celebrate on the bodies of martyrs,\" rijiju said.rijiju's remarks were in response to kaur's video in which she is seen holding a placard which read,\" pakistan didn't kill my father, war did.\" kaur had actually posted the video in may last year advocating india-pakistan peace and it was reposted after february 22 violence in ramjas college as part of protest against bjp-backed akhil bhartiya vidyarthi parishad (abvp). the student organisation was blamed behind the violence in which students, teachers and journalists were beaten up. protest march at ramjasmeanwhile, hundreds of students and teachers of delhi university, jnu and jamia hit the streets with a call to \"save\" the varsities from the \"onslaught\" of abvp and \"curbing\" of dissent. however, gurmehar kaur opted out of the protest march. her mother said she has left delhi. the students held posters with messages like \"your nationalism is not above our democracy\".the protesters, mainly comprising students of left forums like aisa, shouted slogans \"abvp go back\" and \"azaadi\" as the march made its way through the roads of north campus towards the arts faculty building.the gates of the colleges falling on the route of the march, which began from the gates of khalsa college, were shut.\"we are marching to reclaim the space to debate and discuss. it is about the freedom to coexist, yet disagree,\" a student said.there was heavy police deployment to prevent a rerun of the clashes that were witnessed between abvp and aisa last week following cancellation of an event at ramjas college after activists of the rss-backed students' wing objected to the invitation to jnu student leaders umar khalid and shehla rashid.(with inputs from pti)watch: du protest: as students march against ramjas violence, abvp turns defensivealso read: \n",
      "{'summary_text': 'union minister kiren rijiju has accused left parties of misleading people amid the raging controversy over delhi university student gurmehar kaur\\'s social media posts against the violence which took place at ramjas college last week. \"she is a martyr\\'s daughter. his soul must be weeping that his daughter is being misguided by those who celebrate on the bodies of martyrs,\" he added.'}\n",
      "\n",
      "original_news:  summarize: delhi man dies after being shot in celebratory firing. a 50-year-old man succumbed to a bullet injury that he allegedly received in celebratory firing during a wedding function in west delhi?s nangloi area, police said on monday.mohammad yusuf, who was working as a waiter at the venue, was hit in the neck when the accused, identified as dharmender, fired from his illegal pistol, eyewitnesses told police. police said the incident took place at around 11.30pm on december 7 during the ring ceremony celebrations at a community centre in nangloi. a police team rushed to the spot after guests called the control room after the firing. the team took yusuf to ram manohar lohia hospital. yusuf, a resident of budaun district in uttar pradesh, remained critical at the hospital and stopped responding to treatment. he died on december 15.dharmender, who fled the spot after the firing, was arrested on december 8 from najafgarh. police recovered the pistol that he used to fire the shots and three cartridges from his possession. preliminary investigations suggest that dharmender intentionally fired at yusuf after he had a scuffle with him over some service issue. however, the matter for the time being after the intervention of guests at the venue. police said that the 32-year-old is a repeat offender and was arrested earlier in 2009 in an attempt to murder case during a similar celebratory firing. they said dharmender deals in property in the area and doesn?t have any stable business. a case of murder and illegal arms act has been registered against dharmender at nangloi police station, police said.earlier this month, a 25-year-old pregnant dancer was shot dead by a drunk guest while performing at a wedding function in punjab?s bathinda. she had allegedly refused to dance with the man. a 10-year-old boy was also allegedly killed in celebratory firing during a wedding function in gorakhpur. in another incident last month, a woman was killed and three others seriously injured when a self-styled god woman sadhvi deva thakur and her private security guards went on a celebratory shooting spree at a wedding in haryana?s karnal.\n",
      "{'summary_text': 'a 50-year-old delhi man died after he was shot in the neck during a celebratory firing at a community centre in nangloi, police said on monday. the man, who was working as a waiter at the venue, was taken to a hospital and died on december 15. a case of murder and illegal arms act has been registered against dharmender, the police said.'}\n",
      "\n",
      "original_news:  summarize: sa odi captain ab de villiers becomes father for 2nd time. ab de villiers, south africa?s odi skipper, has welcomed the birth of his second child, john richard de villiers in johannesburg on friday. de villiers, who returned home after the end of the champions trophy in england, took to instagram and posted, ?now we are 4!?    now we are 4! praise the lord for this amazing blessing in our lives. john richard de villiers was born at 11am on monday the 17th and both danielle and john are safe at home. my wife is the most amazing woman and once again showed incredible courage and strength through all of this. a post shared by ab de villiers (@abdevilliers17) on jul 20, 2017 at 9:22am pdt de villiers married danielle in 2013 and the couple have a two-year old son, abraham de villiers, who is two years old.the south african limited-overs skipper skipped the ongoing four-test series against england as he aims to stay fully fit and guide the proteas to a world cup title in 2019. de villiers is expected to meet cricket south africa at the end of august and announce his decision on his playing future.de villiers has not played test cricket since the england series in january 2016. he missed subsequent tours of australia, new zealand and the current series in england as he aims to nurse a chronic long-term elbow injury. in the recently concluded champions trophy 2017, south africa were knocked out in the league stages and the skipper managed just 20 runs in the three games. although he had a consistent return in the three t20is against england, south africa lost the series 2-1.currently, south africa are playing four tests in england and the series is currently tied 1-1. england won the first test in lord?s while south africa bounced back with a record 340-run win in trent bridge. the third test begins on july 27 at the oval.\n",
      "{'summary_text': 'sa odi captain ab de villiers has welcomed the birth of his second child, john richard, on friday in johannesburg, south africa. he posted on instagram, \\'now we are 4!\\' and said, \"my wife is the most amazing woman and once again showed incredible courage and strength through all of this.\" the couple have a two-year-old son, abraham, who is'}\n",
      "\n",
      "original_news:  summarize: iran bans chess grandmaster for not wearing hijab. chess grandmaster dorsa derakhshani was banned by iran for not wearing a hijab. dorsa's brother borna was banned too, who was playing a chess match against israel.dorsa, 18, is currently studying in spain and had previously participated in the gibraltar games independently. her brother borna, who is 15, had also registered in the games on his own.in 2017, a ban like this in iran may come as an accepted norm but the story hasn't been the same always.tables were turned after the iranian revolution of 1979 or called as the 1979 islamic revolution in iran.this is how women in iran dressed up like in 1970s.an old magazine photo of an iranian woman in 1970s.poles apart but another iranian woman in a magazine before the islamic revolution.magazine model without hijab in 1970s.another shot from the bygone era of iran.and this is 2017.  dorsa is a member of the iranian women's national chess team. she is also the sixth world champion in under-18 games. well, that never mattered compared to donning a particular attire. she got banned for not covering her hair at the tradewise gibraltar chess festival.according to the head of iran's chess federation mehrdad pahlevanzadeh, they will \"seriously deal\" with dorsa for not observing the veil, and brother borna who played with an israeli player.\n",
      "{'summary_text': 'iran has banned iranian chess grandmaster dorsa derakhshani for not wearing a hijab at the gibraltar games. her brother borna was also banned for playing with an israeli player. the ban comes after the 1979 islamic revolution.'}\n",
      "\n"
     ]
    }
   ],
   "source": [
    "#for i in range(len(test_df['news']):\n",
    "for i in range(5):\n",
    "    print(\"original_news: \",test_df['news'].iloc[i])\n",
    "    summarizer = pipeline(\"summarization\", model = model, tokenizer = tokenizer, max_length = 100)\n",
    "    summary = summarizer(test_df['news'].iloc[i])\n",
    "    print(summary[0])\n",
    "    print()"
   ]
  },
  {
   "cell_type": "markdown",
   "metadata": {},
   "source": [
    "## [PEGASUS](https://huggingface.co/docs/transformers/model_doc/pegasus)\n",
    "\n",
    "The Pegasus model was proposed in [PEGASUS: Pre-training with Extracted Gap-sentences for Abstractive Summarization](https://arxiv.org/pdf/1912.08777.pdf) by Jingqing Zhang, Yao Zhao, Mohammad Saleh and Peter J. Liu on Dec 18, 2019.\n",
    "\n",
    "According to the abstract,Pegasus’ pretraining task is intentionally similar to summarization: important sentences are removed/masked from an input document and are generated together as one output sequence from the remaining sentences, similar to an extractive summary.\n",
    "Pegasus achieves SOTA summarization performance on all 12 downstream tasks, as measured by ROUGE and human eval.\n",
    "![Pegasus](https://production-media.paperswithcode.com/methods/f8b904da-2aaa-4b73-85cd-a8adfacce042.png)\n",
    "\n",
    "Ref: https://colab.research.google.com/github/abhimishra91/transformers-tutorials/blob/master/transformers_summarization_wandb.ipynb#scrollTo=j9TNdHlQ0CLz"
   ]
  },
  {
   "cell_type": "code",
   "execution_count": 34,
   "metadata": {
    "tags": []
   },
   "outputs": [],
   "source": [
    "# Free up memory\n",
    "torch.cuda.empty_cache()"
   ]
  },
  {
   "cell_type": "code",
   "execution_count": 35,
   "metadata": {
    "tags": []
   },
   "outputs": [
    {
     "data": {
      "application/vnd.jupyter.widget-view+json": {
       "model_id": "0d5256b629264b1db54a5acf70c52810",
       "version_major": 2,
       "version_minor": 0
      },
      "text/plain": [
       "Map:   0%|          | 0/3384 [00:00<?, ? examples/s]"
      ]
     },
     "metadata": {},
     "output_type": "display_data"
    },
    {
     "data": {
      "application/vnd.jupyter.widget-view+json": {
       "model_id": "b7481f3c949d4b198645a79d12e9340f",
       "version_major": 2,
       "version_minor": 0
      },
      "text/plain": [
       "Map:   0%|          | 0/847 [00:00<?, ? examples/s]"
      ]
     },
     "metadata": {},
     "output_type": "display_data"
    }
   ],
   "source": [
    "# tokenize the data\n",
    "model_name = \"google/pegasus-cnn_dailymail\"\n",
    "tokenizer = AutoTokenizer.from_pretrained(model_name, use_fast = False)\n",
    "tokenized_data = train_val_test_dataset.map(prepare_dataset, batched=True)"
   ]
  },
  {
   "cell_type": "code",
   "execution_count": 36,
   "metadata": {
    "tags": []
   },
   "outputs": [],
   "source": [
    "# Padding\n",
    "data_collator = DataCollatorForSeq2Seq(tokenizer=tokenizer, model=model_name)"
   ]
  },
  {
   "cell_type": "code",
   "execution_count": 37,
   "metadata": {
    "tags": []
   },
   "outputs": [
    {
     "name": "stderr",
     "output_type": "stream",
     "text": [
      "Some weights of PegasusForConditionalGeneration were not initialized from the model checkpoint at google/pegasus-cnn_dailymail and are newly initialized: ['model.encoder.embed_positions.weight', 'model.decoder.embed_positions.weight']\n",
      "You should probably TRAIN this model on a down-stream task to be able to use it for predictions and inference.\n"
     ]
    }
   ],
   "source": [
    "# model\n",
    "PEGASUSmodel = AutoModelForSeq2SeqLM.from_pretrained(model_name).to(device)"
   ]
  },
  {
   "cell_type": "code",
   "execution_count": 38,
   "metadata": {
    "tags": []
   },
   "outputs": [],
   "source": [
    "# set up hyper-parameters\n",
    "training_args = Seq2SeqTrainingArguments(\n",
    "    output_dir=\"pegasus-news\",\n",
    "    evaluation_strategy=\"epoch\",\n",
    "    learning_rate=1e-6,\n",
    "    per_device_train_batch_size=8,\n",
    "    per_device_eval_batch_size=8,\n",
    "    weight_decay=0.01,\n",
    "    save_total_limit=2,\n",
    "    num_train_epochs=3,\n",
    "    predict_with_generate=True,\n",
    "    fp16=False, # FP16 not supported for PEGASUS: https://huggingface.co/docs/transformers/model_doc/pegasus#checkpoints\n",
    "    report_to=\"none\"\n",
    ")"
   ]
  },
  {
   "cell_type": "code",
   "execution_count": 39,
   "metadata": {
    "tags": []
   },
   "outputs": [],
   "source": [
    "# setup trainer\n",
    "trainer = Seq2SeqTrainer(\n",
    "    model = PEGASUSmodel,\n",
    "    args = training_args,\n",
    "    train_dataset = tokenized_data[\"train\"],\n",
    "    eval_dataset = tokenized_data[\"val\"],\n",
    "    tokenizer = tokenizer,\n",
    "    data_collator = data_collator,\n",
    "    compute_metrics = compute_metrics\n",
    ")"
   ]
  },
  {
   "cell_type": "code",
   "execution_count": 40,
   "metadata": {
    "tags": []
   },
   "outputs": [
    {
     "data": {
      "text/html": [
       "\n",
       "    <div>\n",
       "      \n",
       "      <progress value='1269' max='1269' style='width:300px; height:20px; vertical-align: middle;'></progress>\n",
       "      [1269/1269 1:05:45, Epoch 3/3]\n",
       "    </div>\n",
       "    <table border=\"1\" class=\"dataframe\">\n",
       "  <thead>\n",
       " <tr style=\"text-align: left;\">\n",
       "      <th>Epoch</th>\n",
       "      <th>Training Loss</th>\n",
       "      <th>Validation Loss</th>\n",
       "      <th>Rouge-1</th>\n",
       "      <th>Rouge-2</th>\n",
       "      <th>Rouge-l</th>\n",
       "    </tr>\n",
       "  </thead>\n",
       "  <tbody>\n",
       "    <tr>\n",
       "      <td>1</td>\n",
       "      <td>No log</td>\n",
       "      <td>2.069897</td>\n",
       "      <td>{'r': 0.3726788874248043, 'p': 0.3995562278312168, 'f': 0.3774477031775325}</td>\n",
       "      <td>{'r': 0.16801465382058134, 'p': 0.18355330883104226, 'f': 0.17076277482918784}</td>\n",
       "      <td>{'r': 0.33789919649146194, 'p': 0.3630648264869712, 'f': 0.3426353352122299}</td>\n",
       "    </tr>\n",
       "    <tr>\n",
       "      <td>2</td>\n",
       "      <td>2.745500</td>\n",
       "      <td>1.977377</td>\n",
       "      <td>{'r': 0.39196258894703817, 'p': 0.4028061100223781, 'f': 0.38869549773455014}</td>\n",
       "      <td>{'r': 0.18189618469586705, 'p': 0.18994216402253805, 'f': 0.18064299244610635}</td>\n",
       "      <td>{'r': 0.3558599440954195, 'p': 0.3670341581740442, 'f': 0.3535216132968263}</td>\n",
       "    </tr>\n",
       "    <tr>\n",
       "      <td>3</td>\n",
       "      <td>2.509200</td>\n",
       "      <td>1.952163</td>\n",
       "      <td>{'r': 0.39748068839901274, 'p': 0.403828566060428, 'f': 0.3920508038639299}</td>\n",
       "      <td>{'r': 0.18640759495999973, 'p': 0.1913161682896203, 'f': 0.18373201162604894}</td>\n",
       "      <td>{'r': 0.360871149130211, 'p': 0.3674143351424154, 'f': 0.3563069242865033}</td>\n",
       "    </tr>\n",
       "  </tbody>\n",
       "</table><p>"
      ],
      "text/plain": [
       "<IPython.core.display.HTML object>"
      ]
     },
     "metadata": {},
     "output_type": "display_data"
    },
    {
     "data": {
      "text/plain": [
       "TrainOutput(global_step=1269, training_loss=2.581139530695922, metrics={'train_runtime': 3945.8447, 'train_samples_per_second': 2.573, 'train_steps_per_second': 0.322, 'total_flos': 1.4607077849628672e+16, 'train_loss': 2.581139530695922, 'epoch': 3.0})"
      ]
     },
     "execution_count": 40,
     "metadata": {},
     "output_type": "execute_result"
    }
   ],
   "source": [
    "trainer.train()"
   ]
  },
  {
   "cell_type": "code",
   "execution_count": 41,
   "metadata": {},
   "outputs": [],
   "source": [
    "# save the model\n",
    "model_path = \"pegasus-news\"\n",
    "trainer.save_model(model_path)"
   ]
  },
  {
   "cell_type": "markdown",
   "metadata": {},
   "source": [
    "### PEGASUS Inference\n",
    "Try the fine-tuned PEGASUS model for our news test set!"
   ]
  },
  {
   "cell_type": "code",
   "execution_count": 42,
   "metadata": {},
   "outputs": [],
   "source": [
    "model = AutoModelForSeq2SeqLM.from_pretrained(\"pegasus-news\")"
   ]
  },
  {
   "cell_type": "code",
   "execution_count": 43,
   "metadata": {},
   "outputs": [
    {
     "name": "stdout",
     "output_type": "stream",
     "text": [
      "original_news:  summarize: science express flagged off for climate change awareness. new delhi, feb 17 (pti) a science express train was flagged off today on a seven-month journey that will cover 68 stations across the country, including agartala and lumding in the northeast, to spread awareness about climate change. named science express climate action special, with the collaborative efforts of ministries of railways, environment and science and technology, the 16-coach train will travel to tripura and to the north bank of the brahmaputra for the first time. exhibits of eight coaches of the train are devoted to information, caste studies and materials related to various aspects of climate change. the exhibitions mounted by the environment ministry will also showcase the underlying science, impacts, adaption activities, mitigation solutions and policy approaches in a manner that is easy to understand and interesting for not just school students but also the masses. the focus is on what can be done at school, on roads, at home and in offices and also on the concept of lifestyle choices. a kids zone is set up for children from class 4 and below to participate in fun-filled activities, game and puzzles in science, mathematics and environment. \n",
      "{'summary_text': 'named science express climate action special, with the collaborative efforts of ministries of railways, environment and science and technology, the 16-coach train will travel to tripura and to the north bank of the brahmaputra for the first time.<n> exhibits of eight coaches of the train are devoted to information, caste studies and materials related to various aspects of climate change.'}\n",
      "\n",
      "original_news:  summarize: leftists celebrate when our jawans die: kiren rijiju. union minister kiren rijiju has accused left parties of misleading people amid the raging controversy over delhi university student gurmehar kaur's social media posts . kaur, daughter of captain mandeep singh who was martyred in a terrorist attack in jammu and kashmir in 1999, is at the centre of a huge row which erupted after her posts on social media against the violence which took place at du's ramjas college last week.\"she(gurmehar kaur) is a young girl, creating controversy over her isn't right. it is about leftists who celebrate when our jawans die,\" rijiju said. \"during war between india and china they (left) supported china; they mislead the youth and it is not right,\"  the minister of state for home affairs added. \"she is a martyr's daughter. his soul must be weeping that his daughter is being misguided by those who celebrate on the bodies of martyrs,\" rijiju said.rijiju's remarks were in response to kaur's video in which she is seen holding a placard which read,\" pakistan didn't kill my father, war did.\" kaur had actually posted the video in may last year advocating india-pakistan peace and it was reposted after february 22 violence in ramjas college as part of protest against bjp-backed akhil bhartiya vidyarthi parishad (abvp). the student organisation was blamed behind the violence in which students, teachers and journalists were beaten up. protest march at ramjasmeanwhile, hundreds of students and teachers of delhi university, jnu and jamia hit the streets with a call to \"save\" the varsities from the \"onslaught\" of abvp and \"curbing\" of dissent. however, gurmehar kaur opted out of the protest march. her mother said she has left delhi. the students held posters with messages like \"your nationalism is not above our democracy\".the protesters, mainly comprising students of left forums like aisa, shouted slogans \"abvp go back\" and \"azaadi\" as the march made its way through the roads of north campus towards the arts faculty building.the gates of the colleges falling on the route of the march, which began from the gates of khalsa college, were shut.\"we are marching to reclaim the space to debate and discuss. it is about the freedom to coexist, yet disagree,\" a student said.there was heavy police deployment to prevent a rerun of the clashes that were witnessed between abvp and aisa last week following cancellation of an event at ramjas college after activists of the rss-backed students' wing objected to the invitation to jnu student leaders umar khalid and shehla rashid.(with inputs from pti)watch: du protest: as students march against ramjas violence, abvp turns defensivealso read: \n",
      "{'summary_text': \"union minister kiren rijiju has accused left parties of misleading people amid the controversy over university student gurmehar kaur's social media posts .<n>Kaur, daughter of captain mandeep singh who was martyred in a terrorist attack in jammu and kashmir in 1999, is at the centre of a huge row which erupted after her posts on social media against the violence which took place at du's ramjas college last week.\"}\n",
      "\n",
      "original_news:  summarize: delhi man dies after being shot in celebratory firing. a 50-year-old man succumbed to a bullet injury that he allegedly received in celebratory firing during a wedding function in west delhi?s nangloi area, police said on monday.mohammad yusuf, who was working as a waiter at the venue, was hit in the neck when the accused, identified as dharmender, fired from his illegal pistol, eyewitnesses told police. police said the incident took place at around 11.30pm on december 7 during the ring ceremony celebrations at a community centre in nangloi. a police team rushed to the spot after guests called the control room after the firing. the team took yusuf to ram manohar lohia hospital. yusuf, a resident of budaun district in uttar pradesh, remained critical at the hospital and stopped responding to treatment. he died on december 15.dharmender, who fled the spot after the firing, was arrested on december 8 from najafgarh. police recovered the pistol that he used to fire the shots and three cartridges from his possession. preliminary investigations suggest that dharmender intentionally fired at yusuf after he had a scuffle with him over some service issue. however, the matter for the time being after the intervention of guests at the venue. police said that the 32-year-old is a repeat offender and was arrested earlier in 2009 in an attempt to murder case during a similar celebratory firing. they said dharmender deals in property in the area and doesn?t have any stable business. a case of murder and illegal arms act has been registered against dharmender at nangloi police station, police said.earlier this month, a 25-year-old pregnant dancer was shot dead by a drunk guest while performing at a wedding function in punjab?s bathinda. she had allegedly refused to dance with the man. a 10-year-old boy was also allegedly killed in celebratory firing during a wedding function in gorakhpur. in another incident last month, a woman was killed and three others seriously injured when a self-styled god woman sadhvi deva thakur and her private security guards went on a celebratory shooting spree at a wedding in haryana?s karnal.\n",
      "{'summary_text': '25-year-old pregnant dancer was shot dead by a drunk guest while performing at a wedding function in punjab?s bathinda. a 10-year-old boy was also allegedly killed in celebratory firing during a wedding function in gorakhpur. in another incident last month, a woman was killed and three others seriously injured when a self-styled god woman sadhvi deva thakur and her private security guards went on a shooting spree at a wedding in haryana?s'}\n",
      "\n",
      "original_news:  summarize: sa odi captain ab de villiers becomes father for 2nd time. ab de villiers, south africa?s odi skipper, has welcomed the birth of his second child, john richard de villiers in johannesburg on friday. de villiers, who returned home after the end of the champions trophy in england, took to instagram and posted, ?now we are 4!?    now we are 4! praise the lord for this amazing blessing in our lives. john richard de villiers was born at 11am on monday the 17th and both danielle and john are safe at home. my wife is the most amazing woman and once again showed incredible courage and strength through all of this. a post shared by ab de villiers (@abdevilliers17) on jul 20, 2017 at 9:22am pdt de villiers married danielle in 2013 and the couple have a two-year old son, abraham de villiers, who is two years old.the south african limited-overs skipper skipped the ongoing four-test series against england as he aims to stay fully fit and guide the proteas to a world cup title in 2019. de villiers is expected to meet cricket south africa at the end of august and announce his decision on his playing future.de villiers has not played test cricket since the england series in january 2016. he missed subsequent tours of australia, new zealand and the current series in england as he aims to nurse a chronic long-term elbow injury. in the recently concluded champions trophy 2017, south africa were knocked out in the league stages and the skipper managed just 20 runs in the three games. although he had a consistent return in the three t20is against england, south africa lost the series 2-1.currently, south africa are playing four tests in england and the series is currently tied 1-1. england won the first test in lord?s while south africa bounced back with a record 340-run win in trent bridge. the third test begins on july 27 at the oval.\n",
      "{'summary_text': 'ab de villiers, south Africa?s odi skipper, has welcomed the birth of his second child, john richard de villiers in johannesburg on friday.<n>de villiers took to instagram and posted, ?now we are 4!? now we are 4! praise the lord for this amazing blessing in our lives. my wife is the most amazing woman and once again showed incredible courage and strength through all of this.'}\n",
      "\n",
      "original_news:  summarize: iran bans chess grandmaster for not wearing hijab. chess grandmaster dorsa derakhshani was banned by iran for not wearing a hijab. dorsa's brother borna was banned too, who was playing a chess match against israel.dorsa, 18, is currently studying in spain and had previously participated in the gibraltar games independently. her brother borna, who is 15, had also registered in the games on his own.in 2017, a ban like this in iran may come as an accepted norm but the story hasn't been the same always.tables were turned after the iranian revolution of 1979 or called as the 1979 islamic revolution in iran.this is how women in iran dressed up like in 1970s.an old magazine photo of an iranian woman in 1970s.poles apart but another iranian woman in a magazine before the islamic revolution.magazine model without hijab in 1970s.another shot from the bygone era of iran.and this is 2017.  dorsa is a member of the iranian women's national chess team. she is also the sixth world champion in under-18 games. well, that never mattered compared to donning a particular attire. she got banned for not covering her hair at the tradewise gibraltar chess festival.according to the head of iran's chess federation mehrdad pahlevanzadeh, they will \"seriously deal\" with dorsa for not observing the veil, and brother borna who played with an israeli player.\n",
      "{'summary_text': \"chess grandmaster dorsa derakhshani was banned by iran for not wearing a hijab. dorsa's brother borna was banned too, who was playing a chess match against israel.dorsa, 18, is currently studying in spain and had previously participated in the gibraltar games independently.\"}\n",
      "\n"
     ]
    }
   ],
   "source": [
    "#for i in range(len(test_df['news']):\n",
    "for i in range(5):\n",
    "    print(\"original_news: \",test_df['news'].iloc[i])\n",
    "    summarizer = pipeline(\"summarization\", model = model,tokenizer = tokenizer, max_length = 100)\n",
    "    summary = summarizer(test_df['news'].iloc[i])\n",
    "    print(summary[0])\n",
    "    print()"
   ]
  },
  {
   "cell_type": "markdown",
   "metadata": {},
   "source": [
    "\n",
    "## [BART](https://huggingface.co/docs/transformers/model_doc/bart)\n",
    "\n",
    "The Bart model was proposed in [BART: Denoising Sequence-to-Sequence Pre-training for Natural Language Generation, Translation, and Comprehension](https://arxiv.org/abs/1910.13461) by Mike Lewis, Yinhan Liu, Naman Goyal, Marjan Ghazvininejad, Abdelrahman Mohamed, Omer Levy, Ves Stoyanov and Luke Zettlemoyer on 29 Oct, 2019.\n",
    "\n",
    "BART is a denoising autoencoder for pretraining sequence-to-sequence models. It is trained by (1) corrupting text with an arbitrary noising function, and (2) learning a model to reconstruct the original text. It uses a standard Transformer-based neural machine translation architecture. It uses a standard seq2seq/NMT architecture with a bidirectional encoder (like BERT) and a left-to-right decoder (like GPT). This means the encoder's attention mask is fully visible, like BERT, and the decoder's attention mask is causal, like GPT2.\n",
    "\n",
    "The pretraining task involves randomly shuffling the order of the original sentences and a novel in-filling scheme, where spans of text are replaced with a single mask token.\n",
    "BART is particularly effective when fine tuned for text generation but also works well for comprehension tasks. It matches the performance of RoBERTa with comparable training resources on GLUE and SQuAD, achieves new state-of-the-art results on a range of abstractive dialogue, question answering, and summarization tasks, with gains of up to 6 ROUGE.\n",
    "\n",
    "![BART1](https://blog.paperspace.com/content/images/2022/08/bart.png) "
   ]
  },
  {
   "cell_type": "code",
   "execution_count": 44,
   "metadata": {
    "tags": []
   },
   "outputs": [],
   "source": [
    "# Free up memory\n",
    "torch.cuda.empty_cache()"
   ]
  },
  {
   "cell_type": "code",
   "execution_count": 45,
   "metadata": {
    "tags": []
   },
   "outputs": [
    {
     "data": {
      "application/vnd.jupyter.widget-view+json": {
       "model_id": "c7435953726441889d999abcdebec263",
       "version_major": 2,
       "version_minor": 0
      },
      "text/plain": [
       "Map:   0%|          | 0/3384 [00:00<?, ? examples/s]"
      ]
     },
     "metadata": {},
     "output_type": "display_data"
    },
    {
     "data": {
      "application/vnd.jupyter.widget-view+json": {
       "model_id": "cfbf9bcee4e840d1ba4e947ba7617e9d",
       "version_major": 2,
       "version_minor": 0
      },
      "text/plain": [
       "Map:   0%|          | 0/847 [00:00<?, ? examples/s]"
      ]
     },
     "metadata": {},
     "output_type": "display_data"
    }
   ],
   "source": [
    "# tokenize the data\n",
    "model_name = \"facebook/bart-large-cnn\"\n",
    "tokenizer = AutoTokenizer.from_pretrained(model_name)\n",
    "tokenized_data = train_val_test_dataset.map(prepare_dataset, batched=True)"
   ]
  },
  {
   "cell_type": "code",
   "execution_count": 46,
   "metadata": {
    "tags": []
   },
   "outputs": [],
   "source": [
    "# Padding\n",
    "data_collator = DataCollatorForSeq2Seq(tokenizer=tokenizer, model=model_name)"
   ]
  },
  {
   "cell_type": "code",
   "execution_count": 47,
   "metadata": {
    "tags": []
   },
   "outputs": [],
   "source": [
    "# model\n",
    "BARTmodel = AutoModelForSeq2SeqLM.from_pretrained(model_name).to(device)"
   ]
  },
  {
   "cell_type": "code",
   "execution_count": 48,
   "metadata": {
    "tags": []
   },
   "outputs": [],
   "source": [
    "# set up hyper-parameters\n",
    "training_args = Seq2SeqTrainingArguments(\n",
    "    output_dir=\"bart-news\",\n",
    "    evaluation_strategy=\"epoch\",\n",
    "    learning_rate=1e-6,\n",
    "    per_device_train_batch_size=8,\n",
    "    per_device_eval_batch_size=8,\n",
    "    weight_decay=0.01,\n",
    "    save_total_limit=2,\n",
    "    num_train_epochs=3,\n",
    "    predict_with_generate=True,\n",
    "    fp16=True, \n",
    "    report_to=\"none\"\n",
    ")"
   ]
  },
  {
   "cell_type": "code",
   "execution_count": 49,
   "metadata": {
    "tags": []
   },
   "outputs": [],
   "source": [
    "# setup trainer\n",
    "trainer = Seq2SeqTrainer(\n",
    "    model = BARTmodel,\n",
    "    args = training_args,\n",
    "    train_dataset = tokenized_data[\"train\"],\n",
    "    eval_dataset = tokenized_data[\"val\"],\n",
    "    tokenizer = tokenizer,\n",
    "    data_collator = data_collator,\n",
    "    compute_metrics = compute_metrics\n",
    ")"
   ]
  },
  {
   "cell_type": "code",
   "execution_count": 50,
   "metadata": {
    "tags": []
   },
   "outputs": [
    {
     "name": "stderr",
     "output_type": "stream",
     "text": [
      "You're using a BartTokenizerFast tokenizer. Please note that with a fast tokenizer, using the `__call__` method is faster than using a method to encode the text followed by a call to the `pad` method to get a padded encoding.\n"
     ]
    },
    {
     "data": {
      "text/html": [
       "\n",
       "    <div>\n",
       "      \n",
       "      <progress value='1269' max='1269' style='width:300px; height:20px; vertical-align: middle;'></progress>\n",
       "      [1269/1269 34:56, Epoch 3/3]\n",
       "    </div>\n",
       "    <table border=\"1\" class=\"dataframe\">\n",
       "  <thead>\n",
       " <tr style=\"text-align: left;\">\n",
       "      <th>Epoch</th>\n",
       "      <th>Training Loss</th>\n",
       "      <th>Validation Loss</th>\n",
       "      <th>Rouge-1</th>\n",
       "      <th>Rouge-2</th>\n",
       "      <th>Rouge-l</th>\n",
       "    </tr>\n",
       "  </thead>\n",
       "  <tbody>\n",
       "    <tr>\n",
       "      <td>1</td>\n",
       "      <td>No log</td>\n",
       "      <td>1.372020</td>\n",
       "      <td>{'r': 0.4925518725107793, 'p': 0.45546155644797204, 'f': 0.4689730647343442}</td>\n",
       "      <td>{'r': 0.26434819795798503, 'p': 0.240554743582075, 'f': 0.2491225017638573}</td>\n",
       "      <td>{'r': 0.4472959132596455, 'p': 0.41448242503813826, 'f': 0.42634987370904165}</td>\n",
       "    </tr>\n",
       "    <tr>\n",
       "      <td>2</td>\n",
       "      <td>1.507800</td>\n",
       "      <td>1.338476</td>\n",
       "      <td>{'r': 0.5047932996312304, 'p': 0.4600000742568973, 'f': 0.47754145530375325}</td>\n",
       "      <td>{'r': 0.2756573799897272, 'p': 0.24550094313296203, 'f': 0.257360913608345}</td>\n",
       "      <td>{'r': 0.45802994446826895, 'p': 0.41803858542731975, 'f': 0.4336689216292323}</td>\n",
       "    </tr>\n",
       "    <tr>\n",
       "      <td>3</td>\n",
       "      <td>1.371900</td>\n",
       "      <td>1.329648</td>\n",
       "      <td>{'r': 0.5082278449472777, 'p': 0.46154832486728575, 'f': 0.47997338460063044}</td>\n",
       "      <td>{'r': 0.27815304232741456, 'p': 0.24689479589361238, 'f': 0.2592473339629072}</td>\n",
       "      <td>{'r': 0.46185303361075364, 'p': 0.4201767441262921, 'f': 0.436568611418483}</td>\n",
       "    </tr>\n",
       "  </tbody>\n",
       "</table><p>"
      ],
      "text/plain": [
       "<IPython.core.display.HTML object>"
      ]
     },
     "metadata": {},
     "output_type": "display_data"
    },
    {
     "data": {
      "text/plain": [
       "TrainOutput(global_step=1269, training_loss=1.4194699791682057, metrics={'train_runtime': 2097.092, 'train_samples_per_second': 4.841, 'train_steps_per_second': 0.605, 'total_flos': 1.0978450331271168e+16, 'train_loss': 1.4194699791682057, 'epoch': 3.0})"
      ]
     },
     "execution_count": 50,
     "metadata": {},
     "output_type": "execute_result"
    }
   ],
   "source": [
    "trainer.train()"
   ]
  },
  {
   "cell_type": "code",
   "execution_count": 51,
   "metadata": {},
   "outputs": [],
   "source": [
    "# save the model\n",
    "model_path = \"bart-news\"\n",
    "trainer.save_model(model_path)"
   ]
  },
  {
   "cell_type": "markdown",
   "metadata": {},
   "source": [
    "### BART Inference\n",
    "Try the fine-tuned PEGASUS model for our news test set!"
   ]
  },
  {
   "cell_type": "code",
   "execution_count": 52,
   "metadata": {},
   "outputs": [],
   "source": [
    "model = AutoModelForSeq2SeqLM.from_pretrained(\"bart-news\")"
   ]
  },
  {
   "cell_type": "code",
   "execution_count": 53,
   "metadata": {
    "tags": []
   },
   "outputs": [
    {
     "name": "stdout",
     "output_type": "stream",
     "text": [
      "original_news:  summarize: science express flagged off for climate change awareness. new delhi, feb 17 (pti) a science express train was flagged off today on a seven-month journey that will cover 68 stations across the country, including agartala and lumding in the northeast, to spread awareness about climate change. named science express climate action special, with the collaborative efforts of ministries of railways, environment and science and technology, the 16-coach train will travel to tripura and to the north bank of the brahmaputra for the first time. exhibits of eight coaches of the train are devoted to information, caste studies and materials related to various aspects of climate change. the exhibitions mounted by the environment ministry will also showcase the underlying science, impacts, adaption activities, mitigation solutions and policy approaches in a manner that is easy to understand and interesting for not just school students but also the masses. the focus is on what can be done at school, on roads, at home and in offices and also on the concept of lifestyle choices. a kids zone is set up for children from class 4 and below to participate in fun-filled activities, game and puzzles in science, mathematics and environment. \n",
      "{'summary_text': 'a science express train was flagged off on a seven-month journey that will cover 68 stations across the country, including agartala and lumding in the northeast. named science express climate action special, the 16-coach train will travel to tripura and to the north bank of the brahmaputra for the first time. exhibits of eight coaches of the train are devoted to information, caste studies and materials related to various aspects of climate change.'}\n",
      "\n",
      "original_news:  summarize: leftists celebrate when our jawans die: kiren rijiju. union minister kiren rijiju has accused left parties of misleading people amid the raging controversy over delhi university student gurmehar kaur's social media posts . kaur, daughter of captain mandeep singh who was martyred in a terrorist attack in jammu and kashmir in 1999, is at the centre of a huge row which erupted after her posts on social media against the violence which took place at du's ramjas college last week.\"she(gurmehar kaur) is a young girl, creating controversy over her isn't right. it is about leftists who celebrate when our jawans die,\" rijiju said. \"during war between india and china they (left) supported china; they mislead the youth and it is not right,\"  the minister of state for home affairs added. \"she is a martyr's daughter. his soul must be weeping that his daughter is being misguided by those who celebrate on the bodies of martyrs,\" rijiju said.rijiju's remarks were in response to kaur's video in which she is seen holding a placard which read,\" pakistan didn't kill my father, war did.\" kaur had actually posted the video in may last year advocating india-pakistan peace and it was reposted after february 22 violence in ramjas college as part of protest against bjp-backed akhil bhartiya vidyarthi parishad (abvp). the student organisation was blamed behind the violence in which students, teachers and journalists were beaten up. protest march at ramjasmeanwhile, hundreds of students and teachers of delhi university, jnu and jamia hit the streets with a call to \"save\" the varsities from the \"onslaught\" of abvp and \"curbing\" of dissent. however, gurmehar kaur opted out of the protest march. her mother said she has left delhi. the students held posters with messages like \"your nationalism is not above our democracy\".the protesters, mainly comprising students of left forums like aisa, shouted slogans \"abvp go back\" and \"azaadi\" as the march made its way through the roads of north campus towards the arts faculty building.the gates of the colleges falling on the route of the march, which began from the gates of khalsa college, were shut.\"we are marching to reclaim the space to debate and discuss. it is about the freedom to coexist, yet disagree,\" a student said.there was heavy police deployment to prevent a rerun of the clashes that were witnessed between abvp and aisa last week following cancellation of an event at ramjas college after activists of the rss-backed students' wing objected to the invitation to jnu student leaders umar khalid and shehla rashid.(with inputs from pti)watch: du protest: as students march against ramjas violence, abvp turns defensivealso read: \n",
      "{'summary_text': 'union minister kiren rijijiju has accused left parties of misleading people amid the raging controversy over delhi university student gurmehar kaur\\'s social media posts. \"during war between india and china they (left) supported china; they mislead the youth and it is not right,\" he added. \"she is a martyr\\'s daughter. his soul must be weeping that his daughter is being misguided by those who celebrate on the bodies of martyrs,\"'}\n",
      "\n",
      "original_news:  summarize: delhi man dies after being shot in celebratory firing. a 50-year-old man succumbed to a bullet injury that he allegedly received in celebratory firing during a wedding function in west delhi?s nangloi area, police said on monday.mohammad yusuf, who was working as a waiter at the venue, was hit in the neck when the accused, identified as dharmender, fired from his illegal pistol, eyewitnesses told police. police said the incident took place at around 11.30pm on december 7 during the ring ceremony celebrations at a community centre in nangloi. a police team rushed to the spot after guests called the control room after the firing. the team took yusuf to ram manohar lohia hospital. yusuf, a resident of budaun district in uttar pradesh, remained critical at the hospital and stopped responding to treatment. he died on december 15.dharmender, who fled the spot after the firing, was arrested on december 8 from najafgarh. police recovered the pistol that he used to fire the shots and three cartridges from his possession. preliminary investigations suggest that dharmender intentionally fired at yusuf after he had a scuffle with him over some service issue. however, the matter for the time being after the intervention of guests at the venue. police said that the 32-year-old is a repeat offender and was arrested earlier in 2009 in an attempt to murder case during a similar celebratory firing. they said dharmender deals in property in the area and doesn?t have any stable business. a case of murder and illegal arms act has been registered against dharmender at nangloi police station, police said.earlier this month, a 25-year-old pregnant dancer was shot dead by a drunk guest while performing at a wedding function in punjab?s bathinda. she had allegedly refused to dance with the man. a 10-year-old boy was also allegedly killed in celebratory firing during a wedding function in gorakhpur. in another incident last month, a woman was killed and three others seriously injured when a self-styled god woman sadhvi deva thakur and her private security guards went on a celebratory shooting spree at a wedding in haryana?s karnal.\n",
      "{'summary_text': 'a 50-year-old delhi man succumbed to a bullet injury that he allegedly received in celebratory firing during a wedding function in west delhi?s nangloi area, police said on monday. the accused, identified as dharmender, was arrested on december 8 from najafgarh. police recovered the pistol that he used to fire the shots and three cartridges from his possession.'}\n",
      "\n",
      "original_news:  summarize: sa odi captain ab de villiers becomes father for 2nd time. ab de villiers, south africa?s odi skipper, has welcomed the birth of his second child, john richard de villiers in johannesburg on friday. de villiers, who returned home after the end of the champions trophy in england, took to instagram and posted, ?now we are 4!?    now we are 4! praise the lord for this amazing blessing in our lives. john richard de villiers was born at 11am on monday the 17th and both danielle and john are safe at home. my wife is the most amazing woman and once again showed incredible courage and strength through all of this. a post shared by ab de villiers (@abdevilliers17) on jul 20, 2017 at 9:22am pdt de villiers married danielle in 2013 and the couple have a two-year old son, abraham de villiers, who is two years old.the south african limited-overs skipper skipped the ongoing four-test series against england as he aims to stay fully fit and guide the proteas to a world cup title in 2019. de villiers is expected to meet cricket south africa at the end of august and announce his decision on his playing future.de villiers has not played test cricket since the england series in january 2016. he missed subsequent tours of australia, new zealand and the current series in england as he aims to nurse a chronic long-term elbow injury. in the recently concluded champions trophy 2017, south africa were knocked out in the league stages and the skipper managed just 20 runs in the three games. although he had a consistent return in the three t20is against england, south africa lost the series 2-1.currently, south africa are playing four tests in england and the series is currently tied 1-1. england won the first test in lord?s while south africa bounced back with a record 340-run win in trent bridge. the third test begins on july 27 at the oval.\n",
      "{'summary_text': \"south africa's odi captain ab de villiers has become a father for the second time after his son john richard was born on friday in johannesburg. he married his wife danielle in 2013 and the couple have a two-year-old son, abraham, who is two years old. de villier has not played test cricket since the england series in january 2016.\"}\n",
      "\n",
      "original_news:  summarize: iran bans chess grandmaster for not wearing hijab. chess grandmaster dorsa derakhshani was banned by iran for not wearing a hijab. dorsa's brother borna was banned too, who was playing a chess match against israel.dorsa, 18, is currently studying in spain and had previously participated in the gibraltar games independently. her brother borna, who is 15, had also registered in the games on his own.in 2017, a ban like this in iran may come as an accepted norm but the story hasn't been the same always.tables were turned after the iranian revolution of 1979 or called as the 1979 islamic revolution in iran.this is how women in iran dressed up like in 1970s.an old magazine photo of an iranian woman in 1970s.poles apart but another iranian woman in a magazine before the islamic revolution.magazine model without hijab in 1970s.another shot from the bygone era of iran.and this is 2017.  dorsa is a member of the iranian women's national chess team. she is also the sixth world champion in under-18 games. well, that never mattered compared to donning a particular attire. she got banned for not covering her hair at the tradewise gibraltar chess festival.according to the head of iran's chess federation mehrdad pahlevanzadeh, they will \"seriously deal\" with dorsa for not observing the veil, and brother borna who played with an israeli player.\n",
      "{'summary_text': ' chess grandmaster dorsa derakhshani was banned by iran for not wearing a hijab. her brother borna was banned too, who was playing a chess match against israel. the head of iran\\'s chess federation mehrdad pahlevanzadeh said they will \"seriously deal\" with the two.'}\n",
      "\n"
     ]
    }
   ],
   "source": [
    "#for i in range(len(test_df['news']):\n",
    "for i in range(5):\n",
    "    print(\"original_news: \",test_df['news'].iloc[i])\n",
    "    summarizer = pipeline(\"summarization\", model = model,tokenizer = tokenizer, max_length = 100)\n",
    "    summary = summarizer(test_df['news'].iloc[i])\n",
    "    print(summary[0])\n",
    "    print()"
   ]
  },
  {
   "cell_type": "markdown",
   "metadata": {},
   "source": [
    "### Conclusion\n",
    "\n",
    "bart-large-cnn = 1.5 * pegasus-large = 2 * t5-base"
   ]
  }
 ],
 "metadata": {
  "environment": {
   "kernel": "python3",
   "name": "common-gpu.m113",
   "type": "gcloud",
   "uri": "gcr.io/deeplearning-platform-release/base-gpu:m113"
  },
  "kaggle": {
   "accelerator": "gpu",
   "dataSources": [
    {
     "datasetId": 1895,
     "sourceId": 791838,
     "sourceType": "datasetVersion"
    }
   ],
   "dockerImageVersionId": 30580,
   "isGpuEnabled": true,
   "isInternetEnabled": true,
   "language": "python",
   "sourceType": "notebook"
  },
  "kernelspec": {
   "display_name": "Python 3",
   "language": "python",
   "name": "python3"
  },
  "language_info": {
   "codemirror_mode": {
    "name": "ipython",
    "version": 3
   },
   "file_extension": ".py",
   "mimetype": "text/x-python",
   "name": "python",
   "nbconvert_exporter": "python",
   "pygments_lexer": "ipython3",
   "version": "3.10.13"
  }
 },
 "nbformat": 4,
 "nbformat_minor": 4
}
